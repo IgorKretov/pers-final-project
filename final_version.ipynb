{
 "cells": [
  {
   "cell_type": "markdown",
   "metadata": {},
   "source": [
    "# Final Project for Yelp Dataset"
   ]
  },
  {
   "cell_type": "markdown",
   "metadata": {},
   "source": [
    "### Mingrui Liu (ml4404), Zhiyi Guo (zg2350), Yujie Wang (yw3442), Congcheng Yan (cy2550), Banruo Xie (bx2168)\n",
    "The project below builds four recommendation system models for lastest yelp user rating prediction. They are user-based model, time-aware model, collective factorization model and content-based model. Our objective is to compare these four models to the baseline model, user-based model, and decide which model is the best fit for this dataset. We choose accuracy metric as the primary performance evaluater in this project. For implementation, we use some open source packages to predict ratings and recommend restaurants.\n",
    "\n",
    "For business purpose, this project is primarily designed for internal company use. After comparing different methods' performance with the baseline model, discussion will be further made for final decision of letting which model to be put into real world application. The model with more accuracy will be selected. Our business rule is to use recommendation to improve customer satisfaction, user engagement and increase the number of short-term and even long-term user. Therefore, the better recommendation model can help company increase user size and then boost revenue."
   ]
  },
  {
   "cell_type": "markdown",
   "metadata": {},
   "source": [
    "## Data Preprocessing"
   ]
  },
  {
   "cell_type": "code",
   "execution_count": 2,
   "metadata": {},
   "outputs": [],
   "source": [
    "import pandas as pd\n",
    "import numpy as np\n",
    "import math\n",
    "import json\n",
    "from random import sample\n",
    "from datetime import datetime as dt\n",
    "from sklearn.model_selection import train_test_split\n",
    "from sklearn.metrics import mean_squared_error\n",
    "import matplotlib.pyplot as plt\n",
    "from scipy.stats import pearsonr\n",
    "import time\n",
    "from tqdm import tqdm\n",
    "from pyfm import pylibfm\n",
    "from sklearn.feature_extraction import DictVectorizer\n",
    "import warnings\n",
    "from sklearn.feature_extraction.text import CountVectorizer\n",
    "warnings.filterwarnings('ignore')"
   ]
  },
  {
   "cell_type": "code",
   "execution_count": 20,
   "metadata": {},
   "outputs": [
    {
     "name": "stderr",
     "output_type": "stream",
     "text": [
      "100%|██████████| 6685900/6685900 [00:55<00:00, 120065.99it/s]\n"
     ]
    },
    {
     "name": "stdout",
     "output_type": "stream",
     "text": [
      "50000\n",
      "8494\n"
     ]
    }
   ],
   "source": [
    "'''\n",
    "import sample data\n",
    "filter sample data, hold active users and active businesses for recommendation\n",
    "we define active users as writing 5 or more ratings and active businesses as having 5 or more ratings\n",
    "in order to have more original rating, we choose top 20% active businesses\n",
    "later we select 50000 active users and 8500 active business for rating prediction\n",
    "'''\n",
    "line_count = len(open(\"review.json\", \"rb\").readlines())\n",
    "user_ids, business_ids, stars, dates = [], [], [], []\n",
    "with open(\"review.json\",\"rb\") as f:\n",
    "    for line in tqdm(f, total=line_count):\n",
    "        blob = json.loads(line)\n",
    "        user_ids += [blob[\"user_id\"]]\n",
    "        business_ids += [blob[\"business_id\"]]\n",
    "        stars += [blob[\"stars\"]]\n",
    "        dates += [blob[\"date\"]]\n",
    "ratings = pd.DataFrame({\"user_id\": user_ids, \"business_id\": business_ids, \"rating\": stars, \"date\": dates})\n",
    "\n",
    "yelp = ratings.copy()\n",
    "\n",
    "business_count = yelp[\"business_id\"].value_counts()\n",
    "active_business = business_count.loc[business_count >= 5]\n",
    "k2 = active_business.quantile(0.8)\n",
    "active_business = active_business.loc[active_business >= k2]\n",
    "t2 = active_business.index.values\n",
    "t2 = sample(t2.tolist(), 8500)\n",
    "yelp = yelp[yelp['business_id'].isin(t2)]\n",
    "\n",
    "user_count = yelp[\"user_id\"].value_counts()\n",
    "active_user = user_count.loc[user_count >= 5]\n",
    "t1 = active_user.index.values\n",
    "t1 = sample(t1.tolist(), 50000)\n",
    "yelp = yelp[yelp['user_id'].isin(t1)]\n",
    "print(len(yelp[\"user_id\"].value_counts()))\n",
    "print(len(yelp[\"business_id\"].value_counts()))"
   ]
  },
  {
   "cell_type": "code",
   "execution_count": 21,
   "metadata": {},
   "outputs": [
    {
     "data": {
      "text/html": [
       "<div>\n",
       "<style scoped>\n",
       "    .dataframe tbody tr th:only-of-type {\n",
       "        vertical-align: middle;\n",
       "    }\n",
       "\n",
       "    .dataframe tbody tr th {\n",
       "        vertical-align: top;\n",
       "    }\n",
       "\n",
       "    .dataframe thead th {\n",
       "        text-align: right;\n",
       "    }\n",
       "</style>\n",
       "<table border=\"1\" class=\"dataframe\">\n",
       "  <thead>\n",
       "    <tr style=\"text-align: right;\">\n",
       "      <th></th>\n",
       "      <th>user_id</th>\n",
       "      <th>business_id</th>\n",
       "      <th>rating</th>\n",
       "      <th>date</th>\n",
       "    </tr>\n",
       "  </thead>\n",
       "  <tbody>\n",
       "    <tr>\n",
       "      <th>19</th>\n",
       "      <td>_N7Ndn29bpll_961oPeEfw</td>\n",
       "      <td>y-Iw6dZflNix4BdwIyTNGA</td>\n",
       "      <td>3.0</td>\n",
       "      <td>2014-06-27 21:19:23</td>\n",
       "    </tr>\n",
       "    <tr>\n",
       "      <th>34</th>\n",
       "      <td>DbccYu3OppWKl21OanZnTg</td>\n",
       "      <td>YSUcHqlKMPHHJ_cTrqtNrA</td>\n",
       "      <td>1.0</td>\n",
       "      <td>2017-12-29 13:55:19</td>\n",
       "    </tr>\n",
       "    <tr>\n",
       "      <th>36</th>\n",
       "      <td>_o740mSNRhMNYuPjSJoPLg</td>\n",
       "      <td>sMzNLdhJZGzYirIWt-fMAg</td>\n",
       "      <td>5.0</td>\n",
       "      <td>2015-06-21 00:59:14</td>\n",
       "    </tr>\n",
       "    <tr>\n",
       "      <th>48</th>\n",
       "      <td>8vIK6ndl8yzIdmSDnGp0tw</td>\n",
       "      <td>OVTZNSkSfbl3gVB9XQIJfw</td>\n",
       "      <td>4.0</td>\n",
       "      <td>2010-01-08 04:28:23</td>\n",
       "    </tr>\n",
       "    <tr>\n",
       "      <th>50</th>\n",
       "      <td>jsOz-dWToun2VsFcFAfGww</td>\n",
       "      <td>FBSWwaE6gR7KAOyG1QhakQ</td>\n",
       "      <td>5.0</td>\n",
       "      <td>2015-01-03 21:11:31</td>\n",
       "    </tr>\n",
       "  </tbody>\n",
       "</table>\n",
       "</div>"
      ],
      "text/plain": [
       "                   user_id             business_id  rating  \\\n",
       "19  _N7Ndn29bpll_961oPeEfw  y-Iw6dZflNix4BdwIyTNGA     3.0   \n",
       "34  DbccYu3OppWKl21OanZnTg  YSUcHqlKMPHHJ_cTrqtNrA     1.0   \n",
       "36  _o740mSNRhMNYuPjSJoPLg  sMzNLdhJZGzYirIWt-fMAg     5.0   \n",
       "48  8vIK6ndl8yzIdmSDnGp0tw  OVTZNSkSfbl3gVB9XQIJfw     4.0   \n",
       "50  jsOz-dWToun2VsFcFAfGww  FBSWwaE6gR7KAOyG1QhakQ     5.0   \n",
       "\n",
       "                   date  \n",
       "19  2014-06-27 21:19:23  \n",
       "34  2017-12-29 13:55:19  \n",
       "36  2015-06-21 00:59:14  \n",
       "48  2010-01-08 04:28:23  \n",
       "50  2015-01-03 21:11:31  "
      ]
     },
     "execution_count": 21,
     "metadata": {},
     "output_type": "execute_result"
    }
   ],
   "source": [
    "'''\n",
    "see right now sample data\n",
    "'''\n",
    "yelp.head()"
   ]
  },
  {
   "cell_type": "code",
   "execution_count": 22,
   "metadata": {},
   "outputs": [
    {
     "data": {
      "text/html": [
       "<div>\n",
       "<style scoped>\n",
       "    .dataframe tbody tr th:only-of-type {\n",
       "        vertical-align: middle;\n",
       "    }\n",
       "\n",
       "    .dataframe tbody tr th {\n",
       "        vertical-align: top;\n",
       "    }\n",
       "\n",
       "    .dataframe thead th {\n",
       "        text-align: right;\n",
       "    }\n",
       "</style>\n",
       "<table border=\"1\" class=\"dataframe\">\n",
       "  <thead>\n",
       "    <tr style=\"text-align: right;\">\n",
       "      <th></th>\n",
       "      <th>user_id</th>\n",
       "      <th>business_id</th>\n",
       "      <th>rating</th>\n",
       "      <th>date</th>\n",
       "      <th>ind</th>\n",
       "    </tr>\n",
       "  </thead>\n",
       "  <tbody>\n",
       "    <tr>\n",
       "      <th>19</th>\n",
       "      <td>_N7Ndn29bpll_961oPeEfw</td>\n",
       "      <td>y-Iw6dZflNix4BdwIyTNGA</td>\n",
       "      <td>3.0</td>\n",
       "      <td>2014-06-27 21:19:23</td>\n",
       "      <td>19</td>\n",
       "    </tr>\n",
       "    <tr>\n",
       "      <th>34</th>\n",
       "      <td>DbccYu3OppWKl21OanZnTg</td>\n",
       "      <td>YSUcHqlKMPHHJ_cTrqtNrA</td>\n",
       "      <td>1.0</td>\n",
       "      <td>2017-12-29 13:55:19</td>\n",
       "      <td>34</td>\n",
       "    </tr>\n",
       "    <tr>\n",
       "      <th>36</th>\n",
       "      <td>_o740mSNRhMNYuPjSJoPLg</td>\n",
       "      <td>sMzNLdhJZGzYirIWt-fMAg</td>\n",
       "      <td>5.0</td>\n",
       "      <td>2015-06-21 00:59:14</td>\n",
       "      <td>36</td>\n",
       "    </tr>\n",
       "    <tr>\n",
       "      <th>48</th>\n",
       "      <td>8vIK6ndl8yzIdmSDnGp0tw</td>\n",
       "      <td>OVTZNSkSfbl3gVB9XQIJfw</td>\n",
       "      <td>4.0</td>\n",
       "      <td>2010-01-08 04:28:23</td>\n",
       "      <td>48</td>\n",
       "    </tr>\n",
       "    <tr>\n",
       "      <th>50</th>\n",
       "      <td>jsOz-dWToun2VsFcFAfGww</td>\n",
       "      <td>FBSWwaE6gR7KAOyG1QhakQ</td>\n",
       "      <td>5.0</td>\n",
       "      <td>2015-01-03 21:11:31</td>\n",
       "      <td>50</td>\n",
       "    </tr>\n",
       "  </tbody>\n",
       "</table>\n",
       "</div>"
      ],
      "text/plain": [
       "                   user_id             business_id  rating  \\\n",
       "19  _N7Ndn29bpll_961oPeEfw  y-Iw6dZflNix4BdwIyTNGA     3.0   \n",
       "34  DbccYu3OppWKl21OanZnTg  YSUcHqlKMPHHJ_cTrqtNrA     1.0   \n",
       "36  _o740mSNRhMNYuPjSJoPLg  sMzNLdhJZGzYirIWt-fMAg     5.0   \n",
       "48  8vIK6ndl8yzIdmSDnGp0tw  OVTZNSkSfbl3gVB9XQIJfw     4.0   \n",
       "50  jsOz-dWToun2VsFcFAfGww  FBSWwaE6gR7KAOyG1QhakQ     5.0   \n",
       "\n",
       "                   date  ind  \n",
       "19  2014-06-27 21:19:23   19  \n",
       "34  2017-12-29 13:55:19   34  \n",
       "36  2015-06-21 00:59:14   36  \n",
       "48  2010-01-08 04:28:23   48  \n",
       "50  2015-01-03 21:11:31   50  "
      ]
     },
     "execution_count": 22,
     "metadata": {},
     "output_type": "execute_result"
    }
   ],
   "source": [
    "'''\n",
    "split the dataset to train and test\n",
    "as mentioned in instruction, we use data with lastest rating as test and the rest of data as train\n",
    "'''\n",
    "sample = yelp.copy()\n",
    "sample['ind'] = sample.index\n",
    "new_df = sample.sort_values(by=['user_id','date']).groupby(\"user_id\")['date','ind'].max()\n",
    "test = pd.DataFrame(new_df)\n",
    "test = test.merge(sample, on=['user_id','date'], how='left')\n",
    "train = sample[~sample['ind'].isin(np.array(test['ind_x']))]\n",
    "train.head()"
   ]
  },
  {
   "cell_type": "code",
   "execution_count": 23,
   "metadata": {},
   "outputs": [
    {
     "data": {
      "text/html": [
       "<div>\n",
       "<style scoped>\n",
       "    .dataframe tbody tr th:only-of-type {\n",
       "        vertical-align: middle;\n",
       "    }\n",
       "\n",
       "    .dataframe tbody tr th {\n",
       "        vertical-align: top;\n",
       "    }\n",
       "\n",
       "    .dataframe thead th {\n",
       "        text-align: right;\n",
       "    }\n",
       "</style>\n",
       "<table border=\"1\" class=\"dataframe\">\n",
       "  <thead>\n",
       "    <tr style=\"text-align: right;\">\n",
       "      <th>business_id</th>\n",
       "      <th>--7zmmkVg-IMGaXbuVd0SQ</th>\n",
       "      <th>--9e1ONYQuAa-CB_Rrw7Tw</th>\n",
       "      <th>--DaPTJW3-tB1vP-PfdTEg</th>\n",
       "      <th>--ujyvoQlwVoBgMYtADiLA</th>\n",
       "      <th>-050d_XIor1NpCuWkbIVaQ</th>\n",
       "      <th>-0DET7VdEQOJVJ_v6klEug</th>\n",
       "      <th>-0RkJ_uIduNLWQrphbADRw</th>\n",
       "      <th>-0WegMt6Cy966qlDKhu6jA</th>\n",
       "      <th>-0tgMGl7D9B10YjSN2ujLA</th>\n",
       "      <th>-2C96suwzrE_cqI1U69cLA</th>\n",
       "      <th>...</th>\n",
       "      <th>zw4Legbcu018p5WcZ74iWA</th>\n",
       "      <th>zw9_mqWBn1QCfZg88w0Exg</th>\n",
       "      <th>zwNC-Ow4eIMan2__bS9-rg</th>\n",
       "      <th>zwmps5SXn30g-f5wqg_r9A</th>\n",
       "      <th>zxSfGIhK3hH3vVz_pS5eaA</th>\n",
       "      <th>zyEQSfxX3FPIP6qyNsU0AA</th>\n",
       "      <th>zyPGYeXF4XKCqNN1pjFWhg</th>\n",
       "      <th>zydbdBR6-CM8UZ6WkW1DWA</th>\n",
       "      <th>zzUj3ej4vm_DtvRxNvWDEw</th>\n",
       "      <th>zzwhN7x37nyjP0ZM8oiHmw</th>\n",
       "    </tr>\n",
       "    <tr>\n",
       "      <th>user_id</th>\n",
       "      <th></th>\n",
       "      <th></th>\n",
       "      <th></th>\n",
       "      <th></th>\n",
       "      <th></th>\n",
       "      <th></th>\n",
       "      <th></th>\n",
       "      <th></th>\n",
       "      <th></th>\n",
       "      <th></th>\n",
       "      <th></th>\n",
       "      <th></th>\n",
       "      <th></th>\n",
       "      <th></th>\n",
       "      <th></th>\n",
       "      <th></th>\n",
       "      <th></th>\n",
       "      <th></th>\n",
       "      <th></th>\n",
       "      <th></th>\n",
       "      <th></th>\n",
       "    </tr>\n",
       "  </thead>\n",
       "  <tbody>\n",
       "    <tr>\n",
       "      <th>---1lKK3aKOuomHnwAkAow</th>\n",
       "      <td>NaN</td>\n",
       "      <td>4.0</td>\n",
       "      <td>NaN</td>\n",
       "      <td>NaN</td>\n",
       "      <td>NaN</td>\n",
       "      <td>NaN</td>\n",
       "      <td>NaN</td>\n",
       "      <td>NaN</td>\n",
       "      <td>NaN</td>\n",
       "      <td>NaN</td>\n",
       "      <td>...</td>\n",
       "      <td>NaN</td>\n",
       "      <td>NaN</td>\n",
       "      <td>NaN</td>\n",
       "      <td>NaN</td>\n",
       "      <td>NaN</td>\n",
       "      <td>NaN</td>\n",
       "      <td>NaN</td>\n",
       "      <td>NaN</td>\n",
       "      <td>NaN</td>\n",
       "      <td>NaN</td>\n",
       "    </tr>\n",
       "    <tr>\n",
       "      <th>--2HUmLkcNHZp0xw6AMBPg</th>\n",
       "      <td>NaN</td>\n",
       "      <td>NaN</td>\n",
       "      <td>NaN</td>\n",
       "      <td>NaN</td>\n",
       "      <td>NaN</td>\n",
       "      <td>NaN</td>\n",
       "      <td>NaN</td>\n",
       "      <td>NaN</td>\n",
       "      <td>NaN</td>\n",
       "      <td>NaN</td>\n",
       "      <td>...</td>\n",
       "      <td>NaN</td>\n",
       "      <td>NaN</td>\n",
       "      <td>NaN</td>\n",
       "      <td>NaN</td>\n",
       "      <td>NaN</td>\n",
       "      <td>NaN</td>\n",
       "      <td>NaN</td>\n",
       "      <td>NaN</td>\n",
       "      <td>NaN</td>\n",
       "      <td>NaN</td>\n",
       "    </tr>\n",
       "    <tr>\n",
       "      <th>--2vR0DIsmQ6WfcSzKWigw</th>\n",
       "      <td>NaN</td>\n",
       "      <td>NaN</td>\n",
       "      <td>NaN</td>\n",
       "      <td>NaN</td>\n",
       "      <td>NaN</td>\n",
       "      <td>NaN</td>\n",
       "      <td>NaN</td>\n",
       "      <td>NaN</td>\n",
       "      <td>NaN</td>\n",
       "      <td>NaN</td>\n",
       "      <td>...</td>\n",
       "      <td>NaN</td>\n",
       "      <td>NaN</td>\n",
       "      <td>NaN</td>\n",
       "      <td>NaN</td>\n",
       "      <td>NaN</td>\n",
       "      <td>NaN</td>\n",
       "      <td>NaN</td>\n",
       "      <td>NaN</td>\n",
       "      <td>NaN</td>\n",
       "      <td>NaN</td>\n",
       "    </tr>\n",
       "    <tr>\n",
       "      <th>--4rAAfZnEIAKJE80aIiYg</th>\n",
       "      <td>NaN</td>\n",
       "      <td>NaN</td>\n",
       "      <td>NaN</td>\n",
       "      <td>NaN</td>\n",
       "      <td>NaN</td>\n",
       "      <td>NaN</td>\n",
       "      <td>NaN</td>\n",
       "      <td>NaN</td>\n",
       "      <td>NaN</td>\n",
       "      <td>NaN</td>\n",
       "      <td>...</td>\n",
       "      <td>NaN</td>\n",
       "      <td>NaN</td>\n",
       "      <td>NaN</td>\n",
       "      <td>NaN</td>\n",
       "      <td>NaN</td>\n",
       "      <td>NaN</td>\n",
       "      <td>NaN</td>\n",
       "      <td>NaN</td>\n",
       "      <td>NaN</td>\n",
       "      <td>NaN</td>\n",
       "    </tr>\n",
       "    <tr>\n",
       "      <th>--BumyUHiO_7YsHurb9Hkw</th>\n",
       "      <td>NaN</td>\n",
       "      <td>NaN</td>\n",
       "      <td>NaN</td>\n",
       "      <td>NaN</td>\n",
       "      <td>NaN</td>\n",
       "      <td>NaN</td>\n",
       "      <td>NaN</td>\n",
       "      <td>NaN</td>\n",
       "      <td>NaN</td>\n",
       "      <td>NaN</td>\n",
       "      <td>...</td>\n",
       "      <td>NaN</td>\n",
       "      <td>NaN</td>\n",
       "      <td>NaN</td>\n",
       "      <td>NaN</td>\n",
       "      <td>NaN</td>\n",
       "      <td>NaN</td>\n",
       "      <td>NaN</td>\n",
       "      <td>NaN</td>\n",
       "      <td>NaN</td>\n",
       "      <td>NaN</td>\n",
       "    </tr>\n",
       "  </tbody>\n",
       "</table>\n",
       "<p>5 rows × 8493 columns</p>\n",
       "</div>"
      ],
      "text/plain": [
       "business_id             --7zmmkVg-IMGaXbuVd0SQ  --9e1ONYQuAa-CB_Rrw7Tw  \\\n",
       "user_id                                                                  \n",
       "---1lKK3aKOuomHnwAkAow                     NaN                     4.0   \n",
       "--2HUmLkcNHZp0xw6AMBPg                     NaN                     NaN   \n",
       "--2vR0DIsmQ6WfcSzKWigw                     NaN                     NaN   \n",
       "--4rAAfZnEIAKJE80aIiYg                     NaN                     NaN   \n",
       "--BumyUHiO_7YsHurb9Hkw                     NaN                     NaN   \n",
       "\n",
       "business_id             --DaPTJW3-tB1vP-PfdTEg  --ujyvoQlwVoBgMYtADiLA  \\\n",
       "user_id                                                                  \n",
       "---1lKK3aKOuomHnwAkAow                     NaN                     NaN   \n",
       "--2HUmLkcNHZp0xw6AMBPg                     NaN                     NaN   \n",
       "--2vR0DIsmQ6WfcSzKWigw                     NaN                     NaN   \n",
       "--4rAAfZnEIAKJE80aIiYg                     NaN                     NaN   \n",
       "--BumyUHiO_7YsHurb9Hkw                     NaN                     NaN   \n",
       "\n",
       "business_id             -050d_XIor1NpCuWkbIVaQ  -0DET7VdEQOJVJ_v6klEug  \\\n",
       "user_id                                                                  \n",
       "---1lKK3aKOuomHnwAkAow                     NaN                     NaN   \n",
       "--2HUmLkcNHZp0xw6AMBPg                     NaN                     NaN   \n",
       "--2vR0DIsmQ6WfcSzKWigw                     NaN                     NaN   \n",
       "--4rAAfZnEIAKJE80aIiYg                     NaN                     NaN   \n",
       "--BumyUHiO_7YsHurb9Hkw                     NaN                     NaN   \n",
       "\n",
       "business_id             -0RkJ_uIduNLWQrphbADRw  -0WegMt6Cy966qlDKhu6jA  \\\n",
       "user_id                                                                  \n",
       "---1lKK3aKOuomHnwAkAow                     NaN                     NaN   \n",
       "--2HUmLkcNHZp0xw6AMBPg                     NaN                     NaN   \n",
       "--2vR0DIsmQ6WfcSzKWigw                     NaN                     NaN   \n",
       "--4rAAfZnEIAKJE80aIiYg                     NaN                     NaN   \n",
       "--BumyUHiO_7YsHurb9Hkw                     NaN                     NaN   \n",
       "\n",
       "business_id             -0tgMGl7D9B10YjSN2ujLA  -2C96suwzrE_cqI1U69cLA  ...  \\\n",
       "user_id                                                                 ...   \n",
       "---1lKK3aKOuomHnwAkAow                     NaN                     NaN  ...   \n",
       "--2HUmLkcNHZp0xw6AMBPg                     NaN                     NaN  ...   \n",
       "--2vR0DIsmQ6WfcSzKWigw                     NaN                     NaN  ...   \n",
       "--4rAAfZnEIAKJE80aIiYg                     NaN                     NaN  ...   \n",
       "--BumyUHiO_7YsHurb9Hkw                     NaN                     NaN  ...   \n",
       "\n",
       "business_id             zw4Legbcu018p5WcZ74iWA  zw9_mqWBn1QCfZg88w0Exg  \\\n",
       "user_id                                                                  \n",
       "---1lKK3aKOuomHnwAkAow                     NaN                     NaN   \n",
       "--2HUmLkcNHZp0xw6AMBPg                     NaN                     NaN   \n",
       "--2vR0DIsmQ6WfcSzKWigw                     NaN                     NaN   \n",
       "--4rAAfZnEIAKJE80aIiYg                     NaN                     NaN   \n",
       "--BumyUHiO_7YsHurb9Hkw                     NaN                     NaN   \n",
       "\n",
       "business_id             zwNC-Ow4eIMan2__bS9-rg  zwmps5SXn30g-f5wqg_r9A  \\\n",
       "user_id                                                                  \n",
       "---1lKK3aKOuomHnwAkAow                     NaN                     NaN   \n",
       "--2HUmLkcNHZp0xw6AMBPg                     NaN                     NaN   \n",
       "--2vR0DIsmQ6WfcSzKWigw                     NaN                     NaN   \n",
       "--4rAAfZnEIAKJE80aIiYg                     NaN                     NaN   \n",
       "--BumyUHiO_7YsHurb9Hkw                     NaN                     NaN   \n",
       "\n",
       "business_id             zxSfGIhK3hH3vVz_pS5eaA  zyEQSfxX3FPIP6qyNsU0AA  \\\n",
       "user_id                                                                  \n",
       "---1lKK3aKOuomHnwAkAow                     NaN                     NaN   \n",
       "--2HUmLkcNHZp0xw6AMBPg                     NaN                     NaN   \n",
       "--2vR0DIsmQ6WfcSzKWigw                     NaN                     NaN   \n",
       "--4rAAfZnEIAKJE80aIiYg                     NaN                     NaN   \n",
       "--BumyUHiO_7YsHurb9Hkw                     NaN                     NaN   \n",
       "\n",
       "business_id             zyPGYeXF4XKCqNN1pjFWhg  zydbdBR6-CM8UZ6WkW1DWA  \\\n",
       "user_id                                                                  \n",
       "---1lKK3aKOuomHnwAkAow                     NaN                     NaN   \n",
       "--2HUmLkcNHZp0xw6AMBPg                     NaN                     NaN   \n",
       "--2vR0DIsmQ6WfcSzKWigw                     NaN                     NaN   \n",
       "--4rAAfZnEIAKJE80aIiYg                     NaN                     NaN   \n",
       "--BumyUHiO_7YsHurb9Hkw                     NaN                     NaN   \n",
       "\n",
       "business_id             zzUj3ej4vm_DtvRxNvWDEw  zzwhN7x37nyjP0ZM8oiHmw  \n",
       "user_id                                                                 \n",
       "---1lKK3aKOuomHnwAkAow                     NaN                     NaN  \n",
       "--2HUmLkcNHZp0xw6AMBPg                     NaN                     NaN  \n",
       "--2vR0DIsmQ6WfcSzKWigw                     NaN                     NaN  \n",
       "--4rAAfZnEIAKJE80aIiYg                     NaN                     NaN  \n",
       "--BumyUHiO_7YsHurb9Hkw                     NaN                     NaN  \n",
       "\n",
       "[5 rows x 8493 columns]"
      ]
     },
     "execution_count": 23,
     "metadata": {},
     "output_type": "execute_result"
    }
   ],
   "source": [
    "'''\n",
    "transform dataframe dataset to matrix for recommendation use\n",
    "'''\n",
    "train_table = pd.pivot_table(train, values='rating', index=['user_id'], columns=['business_id'])\n",
    "train_table.head()"
   ]
  },
  {
   "cell_type": "markdown",
   "metadata": {},
   "source": [
    "# 1.Baseline Model: User-based Model"
   ]
  },
  {
   "cell_type": "markdown",
   "metadata": {},
   "source": [
    "### Algorithm:\n",
    "1. Determine a set of peers for every user<br>\n",
    "2. Calculate the similarity of each user within the peer set, comparing users on items that they have both rated<br>\n",
    "3. Use prediction function to fill in a user's missing rating (weighted average mean-centered rating from the users in the peer set)"
   ]
  },
  {
   "cell_type": "markdown",
   "metadata": {},
   "source": [
    "(1) $\\mu_u=\\frac{\\sum_{k \\in I_u} r_{uk}}{|I_u|}$ <br>\n",
    "(2) $s_{uj}=r_{uj}-\\mu_u$<br>\n",
    "(3) $r_{uj}=\\mu_u+\\frac{\\sum_{v \\in P_u(j)} Sim(u,v)(r_{vj}-\\mu_v)}{\\sum_{v \\in P_u(j)}|Sim(u,v)|}$"
   ]
  },
  {
   "cell_type": "code",
   "execution_count": 17,
   "metadata": {},
   "outputs": [],
   "source": [
    "'''\n",
    "use pearson coefficient to find similarity between all users\n",
    "input: original data matrix\n",
    "output: similarity matrix of all users\n",
    "'''\n",
    "def update_pearson(df):\n",
    "    val_arr = df.values.copy()\n",
    "    corr = []\n",
    "    for i in range(0, len(val_arr)):\n",
    "        valid = sorted(np.argwhere(~np.isnan(val_arr[i])).flatten())\n",
    "        corr.append(valid)\n",
    "\n",
    "    values = df.values.copy()\n",
    "    arr = np.zeros((df.shape[0],df.shape[0]))\n",
    "    for i in range(0, len(values)):\n",
    "        for j in range(i, len(values)):\n",
    "            row1 = values[i]\n",
    "            row2 = values[j]\n",
    "            valid1 = corr[i]\n",
    "            valid2 = corr[j]\n",
    "            common = list(set(valid1) & set(valid2))\n",
    "            if len(common) <= 2:\n",
    "                arr[i,j]=0\n",
    "                arr[j,i]=0\n",
    "                continue\n",
    "                \n",
    "            row_1 = row1[common]\n",
    "            row_2 = row2[common]\n",
    "            pearson = pearsonr(row_1,row_2)[0]\n",
    "            arr[i,j] = pearson\n",
    "            arr[j,i] = pearson\n",
    "            \n",
    "    d = pd.DataFrame(arr)\n",
    "    \n",
    "    return d"
   ]
  },
  {
   "cell_type": "code",
   "execution_count": 25,
   "metadata": {},
   "outputs": [],
   "source": [
    "'''\n",
    "predict ratings for each user and business in original data matrix\n",
    "input: original data matrix, top k similar users for each user (neighbor size)\n",
    "output: data matrix with all predicted ratings\n",
    "'''\n",
    "def predict(df, k):\n",
    "    mu = df.mean(axis=1).values\n",
    "    d = update_pearson(df)\n",
    "    d = d.where(d.apply(lambda x: x.isin(x.nlargest(k)),axis=0),0)\n",
    "    p_sum = d.abs().sum(axis=1).values\n",
    "    subtract = df.sub(df.mean(axis=1), axis=0)\n",
    "    r = np.where(np.isnan(d.values),0,d.values).dot(np.where(np.isnan(subtract.values),0,subtract.values))\n",
    "    cp = df.values.copy()\n",
    "    \n",
    "    for (i,j), values in np.ndenumerate(cp):\n",
    "        values = r[i,j]/p_sum[i]+mu[i]\n",
    "        cp[i][j] = values\n",
    "        \n",
    "    df_result = pd.DataFrame(cp)\n",
    "    df_result.columns = list(df.columns)\n",
    "    df_result.index = list(df.index)\n",
    "    \n",
    "    return df_result"
   ]
  },
  {
   "cell_type": "code",
   "execution_count": 26,
   "metadata": {},
   "outputs": [],
   "source": [
    "'''\n",
    "here we use neighbor size as 50 for the first try\n",
    "'''\n",
    "pre = predict(train_table, 50)"
   ]
  },
  {
   "cell_type": "code",
   "execution_count": 27,
   "metadata": {},
   "outputs": [
    {
     "data": {
      "text/html": [
       "<div>\n",
       "<style scoped>\n",
       "    .dataframe tbody tr th:only-of-type {\n",
       "        vertical-align: middle;\n",
       "    }\n",
       "\n",
       "    .dataframe tbody tr th {\n",
       "        vertical-align: top;\n",
       "    }\n",
       "\n",
       "    .dataframe thead th {\n",
       "        text-align: right;\n",
       "    }\n",
       "</style>\n",
       "<table border=\"1\" class=\"dataframe\">\n",
       "  <thead>\n",
       "    <tr style=\"text-align: right;\">\n",
       "      <th></th>\n",
       "      <th>--7zmmkVg-IMGaXbuVd0SQ</th>\n",
       "      <th>--9e1ONYQuAa-CB_Rrw7Tw</th>\n",
       "      <th>--DaPTJW3-tB1vP-PfdTEg</th>\n",
       "      <th>--ujyvoQlwVoBgMYtADiLA</th>\n",
       "      <th>-050d_XIor1NpCuWkbIVaQ</th>\n",
       "      <th>-0DET7VdEQOJVJ_v6klEug</th>\n",
       "      <th>-0RkJ_uIduNLWQrphbADRw</th>\n",
       "      <th>-0WegMt6Cy966qlDKhu6jA</th>\n",
       "      <th>-0tgMGl7D9B10YjSN2ujLA</th>\n",
       "      <th>-2C96suwzrE_cqI1U69cLA</th>\n",
       "      <th>...</th>\n",
       "      <th>zw4Legbcu018p5WcZ74iWA</th>\n",
       "      <th>zw9_mqWBn1QCfZg88w0Exg</th>\n",
       "      <th>zwNC-Ow4eIMan2__bS9-rg</th>\n",
       "      <th>zwmps5SXn30g-f5wqg_r9A</th>\n",
       "      <th>zxSfGIhK3hH3vVz_pS5eaA</th>\n",
       "      <th>zyEQSfxX3FPIP6qyNsU0AA</th>\n",
       "      <th>zyPGYeXF4XKCqNN1pjFWhg</th>\n",
       "      <th>zydbdBR6-CM8UZ6WkW1DWA</th>\n",
       "      <th>zzUj3ej4vm_DtvRxNvWDEw</th>\n",
       "      <th>zzwhN7x37nyjP0ZM8oiHmw</th>\n",
       "    </tr>\n",
       "  </thead>\n",
       "  <tbody>\n",
       "    <tr>\n",
       "      <th>---1lKK3aKOuomHnwAkAow</th>\n",
       "      <td>3.875000</td>\n",
       "      <td>3.889251</td>\n",
       "      <td>3.875000</td>\n",
       "      <td>3.875000</td>\n",
       "      <td>3.875000</td>\n",
       "      <td>3.875000</td>\n",
       "      <td>3.875000</td>\n",
       "      <td>3.875000</td>\n",
       "      <td>3.875000</td>\n",
       "      <td>3.875000</td>\n",
       "      <td>...</td>\n",
       "      <td>3.875000</td>\n",
       "      <td>3.875000</td>\n",
       "      <td>4.006641</td>\n",
       "      <td>3.875000</td>\n",
       "      <td>3.875000</td>\n",
       "      <td>3.875000</td>\n",
       "      <td>3.875000</td>\n",
       "      <td>3.875000</td>\n",
       "      <td>3.875000</td>\n",
       "      <td>3.875000</td>\n",
       "    </tr>\n",
       "    <tr>\n",
       "      <th>--2HUmLkcNHZp0xw6AMBPg</th>\n",
       "      <td>4.583333</td>\n",
       "      <td>4.583333</td>\n",
       "      <td>4.583333</td>\n",
       "      <td>4.583333</td>\n",
       "      <td>4.649371</td>\n",
       "      <td>4.583333</td>\n",
       "      <td>4.583333</td>\n",
       "      <td>4.583333</td>\n",
       "      <td>4.583333</td>\n",
       "      <td>4.583333</td>\n",
       "      <td>...</td>\n",
       "      <td>4.583333</td>\n",
       "      <td>4.583333</td>\n",
       "      <td>4.583333</td>\n",
       "      <td>4.583333</td>\n",
       "      <td>4.583333</td>\n",
       "      <td>4.583333</td>\n",
       "      <td>4.583333</td>\n",
       "      <td>4.583333</td>\n",
       "      <td>4.583333</td>\n",
       "      <td>4.583333</td>\n",
       "    </tr>\n",
       "    <tr>\n",
       "      <th>--2vR0DIsmQ6WfcSzKWigw</th>\n",
       "      <td>3.666667</td>\n",
       "      <td>3.666667</td>\n",
       "      <td>3.666667</td>\n",
       "      <td>3.666667</td>\n",
       "      <td>3.666667</td>\n",
       "      <td>3.666667</td>\n",
       "      <td>3.666667</td>\n",
       "      <td>3.666667</td>\n",
       "      <td>3.666667</td>\n",
       "      <td>3.666667</td>\n",
       "      <td>...</td>\n",
       "      <td>3.666667</td>\n",
       "      <td>3.666667</td>\n",
       "      <td>3.666667</td>\n",
       "      <td>3.666667</td>\n",
       "      <td>3.666667</td>\n",
       "      <td>3.666667</td>\n",
       "      <td>3.666667</td>\n",
       "      <td>3.666667</td>\n",
       "      <td>3.666667</td>\n",
       "      <td>3.666667</td>\n",
       "    </tr>\n",
       "    <tr>\n",
       "      <th>--4rAAfZnEIAKJE80aIiYg</th>\n",
       "      <td>2.500000</td>\n",
       "      <td>2.500000</td>\n",
       "      <td>2.500000</td>\n",
       "      <td>2.500000</td>\n",
       "      <td>2.500000</td>\n",
       "      <td>2.500000</td>\n",
       "      <td>2.500000</td>\n",
       "      <td>2.500000</td>\n",
       "      <td>2.500000</td>\n",
       "      <td>2.500000</td>\n",
       "      <td>...</td>\n",
       "      <td>2.500000</td>\n",
       "      <td>2.500000</td>\n",
       "      <td>2.500000</td>\n",
       "      <td>2.500000</td>\n",
       "      <td>2.500000</td>\n",
       "      <td>2.500000</td>\n",
       "      <td>2.500000</td>\n",
       "      <td>2.500000</td>\n",
       "      <td>2.500000</td>\n",
       "      <td>2.500000</td>\n",
       "    </tr>\n",
       "    <tr>\n",
       "      <th>--BumyUHiO_7YsHurb9Hkw</th>\n",
       "      <td>4.142857</td>\n",
       "      <td>4.142857</td>\n",
       "      <td>4.142857</td>\n",
       "      <td>4.142857</td>\n",
       "      <td>4.142857</td>\n",
       "      <td>4.142857</td>\n",
       "      <td>4.142857</td>\n",
       "      <td>4.142857</td>\n",
       "      <td>4.142857</td>\n",
       "      <td>4.142857</td>\n",
       "      <td>...</td>\n",
       "      <td>4.142857</td>\n",
       "      <td>4.142857</td>\n",
       "      <td>4.142857</td>\n",
       "      <td>4.142857</td>\n",
       "      <td>4.142857</td>\n",
       "      <td>4.142857</td>\n",
       "      <td>4.142857</td>\n",
       "      <td>4.142857</td>\n",
       "      <td>4.142857</td>\n",
       "      <td>4.142857</td>\n",
       "    </tr>\n",
       "  </tbody>\n",
       "</table>\n",
       "<p>5 rows × 8493 columns</p>\n",
       "</div>"
      ],
      "text/plain": [
       "                        --7zmmkVg-IMGaXbuVd0SQ  --9e1ONYQuAa-CB_Rrw7Tw  \\\n",
       "---1lKK3aKOuomHnwAkAow                3.875000                3.889251   \n",
       "--2HUmLkcNHZp0xw6AMBPg                4.583333                4.583333   \n",
       "--2vR0DIsmQ6WfcSzKWigw                3.666667                3.666667   \n",
       "--4rAAfZnEIAKJE80aIiYg                2.500000                2.500000   \n",
       "--BumyUHiO_7YsHurb9Hkw                4.142857                4.142857   \n",
       "\n",
       "                        --DaPTJW3-tB1vP-PfdTEg  --ujyvoQlwVoBgMYtADiLA  \\\n",
       "---1lKK3aKOuomHnwAkAow                3.875000                3.875000   \n",
       "--2HUmLkcNHZp0xw6AMBPg                4.583333                4.583333   \n",
       "--2vR0DIsmQ6WfcSzKWigw                3.666667                3.666667   \n",
       "--4rAAfZnEIAKJE80aIiYg                2.500000                2.500000   \n",
       "--BumyUHiO_7YsHurb9Hkw                4.142857                4.142857   \n",
       "\n",
       "                        -050d_XIor1NpCuWkbIVaQ  -0DET7VdEQOJVJ_v6klEug  \\\n",
       "---1lKK3aKOuomHnwAkAow                3.875000                3.875000   \n",
       "--2HUmLkcNHZp0xw6AMBPg                4.649371                4.583333   \n",
       "--2vR0DIsmQ6WfcSzKWigw                3.666667                3.666667   \n",
       "--4rAAfZnEIAKJE80aIiYg                2.500000                2.500000   \n",
       "--BumyUHiO_7YsHurb9Hkw                4.142857                4.142857   \n",
       "\n",
       "                        -0RkJ_uIduNLWQrphbADRw  -0WegMt6Cy966qlDKhu6jA  \\\n",
       "---1lKK3aKOuomHnwAkAow                3.875000                3.875000   \n",
       "--2HUmLkcNHZp0xw6AMBPg                4.583333                4.583333   \n",
       "--2vR0DIsmQ6WfcSzKWigw                3.666667                3.666667   \n",
       "--4rAAfZnEIAKJE80aIiYg                2.500000                2.500000   \n",
       "--BumyUHiO_7YsHurb9Hkw                4.142857                4.142857   \n",
       "\n",
       "                        -0tgMGl7D9B10YjSN2ujLA  -2C96suwzrE_cqI1U69cLA  ...  \\\n",
       "---1lKK3aKOuomHnwAkAow                3.875000                3.875000  ...   \n",
       "--2HUmLkcNHZp0xw6AMBPg                4.583333                4.583333  ...   \n",
       "--2vR0DIsmQ6WfcSzKWigw                3.666667                3.666667  ...   \n",
       "--4rAAfZnEIAKJE80aIiYg                2.500000                2.500000  ...   \n",
       "--BumyUHiO_7YsHurb9Hkw                4.142857                4.142857  ...   \n",
       "\n",
       "                        zw4Legbcu018p5WcZ74iWA  zw9_mqWBn1QCfZg88w0Exg  \\\n",
       "---1lKK3aKOuomHnwAkAow                3.875000                3.875000   \n",
       "--2HUmLkcNHZp0xw6AMBPg                4.583333                4.583333   \n",
       "--2vR0DIsmQ6WfcSzKWigw                3.666667                3.666667   \n",
       "--4rAAfZnEIAKJE80aIiYg                2.500000                2.500000   \n",
       "--BumyUHiO_7YsHurb9Hkw                4.142857                4.142857   \n",
       "\n",
       "                        zwNC-Ow4eIMan2__bS9-rg  zwmps5SXn30g-f5wqg_r9A  \\\n",
       "---1lKK3aKOuomHnwAkAow                4.006641                3.875000   \n",
       "--2HUmLkcNHZp0xw6AMBPg                4.583333                4.583333   \n",
       "--2vR0DIsmQ6WfcSzKWigw                3.666667                3.666667   \n",
       "--4rAAfZnEIAKJE80aIiYg                2.500000                2.500000   \n",
       "--BumyUHiO_7YsHurb9Hkw                4.142857                4.142857   \n",
       "\n",
       "                        zxSfGIhK3hH3vVz_pS5eaA  zyEQSfxX3FPIP6qyNsU0AA  \\\n",
       "---1lKK3aKOuomHnwAkAow                3.875000                3.875000   \n",
       "--2HUmLkcNHZp0xw6AMBPg                4.583333                4.583333   \n",
       "--2vR0DIsmQ6WfcSzKWigw                3.666667                3.666667   \n",
       "--4rAAfZnEIAKJE80aIiYg                2.500000                2.500000   \n",
       "--BumyUHiO_7YsHurb9Hkw                4.142857                4.142857   \n",
       "\n",
       "                        zyPGYeXF4XKCqNN1pjFWhg  zydbdBR6-CM8UZ6WkW1DWA  \\\n",
       "---1lKK3aKOuomHnwAkAow                3.875000                3.875000   \n",
       "--2HUmLkcNHZp0xw6AMBPg                4.583333                4.583333   \n",
       "--2vR0DIsmQ6WfcSzKWigw                3.666667                3.666667   \n",
       "--4rAAfZnEIAKJE80aIiYg                2.500000                2.500000   \n",
       "--BumyUHiO_7YsHurb9Hkw                4.142857                4.142857   \n",
       "\n",
       "                        zzUj3ej4vm_DtvRxNvWDEw  zzwhN7x37nyjP0ZM8oiHmw  \n",
       "---1lKK3aKOuomHnwAkAow                3.875000                3.875000  \n",
       "--2HUmLkcNHZp0xw6AMBPg                4.583333                4.583333  \n",
       "--2vR0DIsmQ6WfcSzKWigw                3.666667                3.666667  \n",
       "--4rAAfZnEIAKJE80aIiYg                2.500000                2.500000  \n",
       "--BumyUHiO_7YsHurb9Hkw                4.142857                4.142857  \n",
       "\n",
       "[5 rows x 8493 columns]"
      ]
     },
     "execution_count": 27,
     "metadata": {},
     "output_type": "execute_result"
    }
   ],
   "source": [
    "pre.head()"
   ]
  },
  {
   "cell_type": "markdown",
   "metadata": {},
   "source": [
    "## Recommend"
   ]
  },
  {
   "cell_type": "code",
   "execution_count": 28,
   "metadata": {},
   "outputs": [],
   "source": [
    "'''\n",
    "use predicted data matrix to recommend business to a specific user\n",
    "input: predicted data matrix, how many businesses recommended to a user, userid\n",
    "output: userid, businessid, predicted rating\n",
    "'''\n",
    "def recommend(df, k, userid):\n",
    "    df_t = df.transpose()\n",
    "    index = list(df_t.nlargest(k, userid).iloc[:,2].index)\n",
    "    rating = list(df_t.nlargest(k, userid).iloc[:,2].values)\n",
    "    rec = zip([userid]*k, index, rating)\n",
    "    \n",
    "    return list(rec)"
   ]
  },
  {
   "cell_type": "code",
   "execution_count": 29,
   "metadata": {},
   "outputs": [
    {
     "data": {
      "text/plain": [
       "[('--2vR0DIsmQ6WfcSzKWigw', 'El4FC8jcawUVgw_0EIcbaQ', 4.3506054788798085),\n",
       " ('--2vR0DIsmQ6WfcSzKWigw', '3xmfT7l3xNH5LK1dLzfvGw', 4.039746188002329),\n",
       " ('--2vR0DIsmQ6WfcSzKWigw', 'SLJX2dksO_BeNMQUe3Nr8Q', 3.8178559737580944),\n",
       " ('--2vR0DIsmQ6WfcSzKWigw', 'Az_60nNuh1FH8Ds8oasZjw', 3.8082445116423793),\n",
       " ('--2vR0DIsmQ6WfcSzKWigw', 'A5Rkh7UymKm0_Rxm9K2PJw', 3.804158724448768)]"
      ]
     },
     "execution_count": 29,
     "metadata": {},
     "output_type": "execute_result"
    }
   ],
   "source": [
    "recommend(pre, 5, '--2vR0DIsmQ6WfcSzKWigw')"
   ]
  },
  {
   "cell_type": "markdown",
   "metadata": {},
   "source": [
    "## Evaluation"
   ]
  },
  {
   "cell_type": "markdown",
   "metadata": {},
   "source": [
    "Here we use accuracy metric as our performance evaluater. We choose MSE as our primary accuracy metric and NDCG as our secondary accuracy metric. MSE stands for mean square error, which measures the average squared difference between estimated value and actual value. NDCG stands for normalized discounted cumulative gain, which measures ranking quality. In other words, we expect MSE to be as small as possible and NDCG as large as possible."
   ]
  },
  {
   "cell_type": "markdown",
   "metadata": {},
   "source": [
    "As mentioned in the instruction and introduction, our objective is to predict the lastest raing of each yelp ueser. Thus, our test set should always be the lastest rating. Under this circumstance, we cannot use cross validation to tune the model. Thus, we use the same train and test to tune some hyperparameters."
   ]
  },
  {
   "cell_type": "code",
   "execution_count": 30,
   "metadata": {},
   "outputs": [],
   "source": [
    "'''\n",
    "we use online reference code to compute ndcg score for the model\n",
    "https://gist.github.com/mblondel/7337391\n",
    "'''\n",
    "def dcg_score(y_true, y_score, k=10, gains=\"exponential\"):\n",
    "    order = np.argsort(y_score)[::-1]\n",
    "    y_true = np.take(y_true, order[:k])\n",
    "\n",
    "    if gains == \"exponential\":\n",
    "        gains = 2 ** y_true - 1\n",
    "    elif gains == \"linear\":\n",
    "        gains = y_true\n",
    "    else:\n",
    "        raise ValueError(\"Invalid gains option.\")\n",
    "\n",
    "    discounts = np.log2(np.arange(len(y_true)) + 2)\n",
    "    return np.sum(gains / discounts)\n",
    "\n",
    "def ndcg_score(y_true, y_score, k=10, gains=\"exponential\"):\n",
    "    best = dcg_score(y_true, y_true, k, gains)\n",
    "    actual = dcg_score(y_true, y_score, k, gains)\n",
    "    return actual/best"
   ]
  },
  {
   "cell_type": "code",
   "execution_count": 31,
   "metadata": {},
   "outputs": [],
   "source": [
    "'''\n",
    "we try different neighbor size to see which one has the best performance\n",
    "input: a list of different k\n",
    "output: MSE and NDCG for each k\n",
    "'''\n",
    "def tune_neighbor(list_k):\n",
    "    mse = []\n",
    "    ndcg = []\n",
    "    \n",
    "    for k in list_k:\n",
    "        comp = predict(train_table, k)\n",
    "        comp['id'] = list(train_table.index)\n",
    "        comp = pd.melt(comp, id_vars=['id'])\n",
    "        comp.rename(columns = {'id':'user_id', 'variable':'business_id'}, inplace = True)\n",
    "        combine = pd.merge(comp, test, how='inner', on=['user_id', 'business_id'])\n",
    "        combine = combine.dropna(subset=['value'])\n",
    "\n",
    "        pred = combine.value\n",
    "        true = combine.rating\n",
    "        mse.append(mean_squared_error(pred, true))\n",
    "        ndcg.append(ndcg_score(true.values, pred.values, k=10, gains=\"exponential\"))\n",
    "    \n",
    "    evaluate = list(zip(mse, ndcg))\n",
    "  \n",
    "    return evaluate"
   ]
  },
  {
   "cell_type": "code",
   "execution_count": 39,
   "metadata": {},
   "outputs": [],
   "source": [
    "list_k = [5, 10, 50, 100]\n",
    "metric = tune_neighbor(list_k)"
   ]
  },
  {
   "cell_type": "code",
   "execution_count": 41,
   "metadata": {},
   "outputs": [
    {
     "data": {
      "text/html": [
       "<div>\n",
       "<style scoped>\n",
       "    .dataframe tbody tr th:only-of-type {\n",
       "        vertical-align: middle;\n",
       "    }\n",
       "\n",
       "    .dataframe tbody tr th {\n",
       "        vertical-align: top;\n",
       "    }\n",
       "\n",
       "    .dataframe thead th {\n",
       "        text-align: right;\n",
       "    }\n",
       "</style>\n",
       "<table border=\"1\" class=\"dataframe\">\n",
       "  <thead>\n",
       "    <tr style=\"text-align: right;\">\n",
       "      <th></th>\n",
       "      <th>mse</th>\n",
       "      <th>ndcg</th>\n",
       "      <th>k</th>\n",
       "    </tr>\n",
       "  </thead>\n",
       "  <tbody>\n",
       "    <tr>\n",
       "      <th>0</th>\n",
       "      <td>0.496998</td>\n",
       "      <td>0.928329</td>\n",
       "      <td>5</td>\n",
       "    </tr>\n",
       "    <tr>\n",
       "      <th>1</th>\n",
       "      <td>0.521494</td>\n",
       "      <td>1.000000</td>\n",
       "      <td>10</td>\n",
       "    </tr>\n",
       "    <tr>\n",
       "      <th>2</th>\n",
       "      <td>0.598711</td>\n",
       "      <td>1.000000</td>\n",
       "      <td>50</td>\n",
       "    </tr>\n",
       "    <tr>\n",
       "      <th>3</th>\n",
       "      <td>0.630271</td>\n",
       "      <td>1.000000</td>\n",
       "      <td>100</td>\n",
       "    </tr>\n",
       "  </tbody>\n",
       "</table>\n",
       "</div>"
      ],
      "text/plain": [
       "        mse      ndcg    k\n",
       "0  0.496998  0.928329    5\n",
       "1  0.521494  1.000000   10\n",
       "2  0.598711  1.000000   50\n",
       "3  0.630271  1.000000  100"
      ]
     },
     "execution_count": 41,
     "metadata": {},
     "output_type": "execute_result"
    }
   ],
   "source": [
    "metric = pd.DataFrame(metric, columns=['mse','ndcg'])\n",
    "metric['k'] = list_k\n",
    "metric"
   ]
  },
  {
   "cell_type": "code",
   "execution_count": 42,
   "metadata": {},
   "outputs": [
    {
     "data": {
      "image/png": "[encoded data removed]",
      "text/plain": [
       "<Figure size 432x288 with 1 Axes>"
      ]
     },
     "metadata": {
      "needs_background": "light"
     },
     "output_type": "display_data"
    }
   ],
   "source": [
    "plt.plot('k', 'mse', data=metric, marker='', color='olive', linewidth=2, linestyle='dashed', label=\"mse\")\n",
    "plt.plot('k', 'ndcg', data=metric, marker='', color='olive', linewidth=2, label=\"ndcg\")\n",
    "plt.legend()\n",
    "plt.show()"
   ]
  },
  {
   "cell_type": "markdown",
   "metadata": {},
   "source": [
    "Based on the above graph, we can conclude that this model is great since the MSE is all smaller than 1 and NDCG is close to 1 and even equal to 1 for some neighbor sizes. Moreover, we can see that both MSE and NDCG increase as the neighbor size increases. Recall that we want to MSE to be as small as possible and NDCG as large as possible. Thus, we need to make a balance between them. Personally, in this case, I will suggest that neighbor size between 10 and 50 is better for this model."
   ]
  },
  {
   "cell_type": "markdown",
   "metadata": {},
   "source": [
    "# 2.Time-aware User-based Model"
   ]
  },
  {
   "cell_type": "markdown",
   "metadata": {},
   "source": [
    "In order to have a more accurate rating, we now take each rating's date into account. Time-aware user-based model is similar to user-based model except with an extra time weight for each rating. The time weight is calculated by exponential decay of each rating's date. That is, if the rating has latest date, it will have a higher time weight because the latest raing has more reliability and vice versa."
   ]
  },
  {
   "cell_type": "markdown",
   "metadata": {},
   "source": [
    "(1) $w_{uj}(t_f)=exp[-\\lambda(t_f-t_{uj})]$ <br>\n",
    "(2) $r_{uj}=\\mu_u+\\frac{\\sum_{v \\in P_u(j)} w_{uj}(t_f)Sim(u,v)(r_{vj}-\\mu_v)}{\\sum_{v \\in P_u(j)}w_{uj}(t_f)|Sim(u,v)|}$"
   ]
  },
  {
   "cell_type": "code",
   "execution_count": 32,
   "metadata": {},
   "outputs": [],
   "source": [
    "'''\n",
    "remove day in date column for calculating time decay\n",
    "'''\n",
    "train['date'] = train['date'].astype(str) \n",
    "train['date'] = train['date'].str.slice(0, 7, 1)"
   ]
  },
  {
   "cell_type": "code",
   "execution_count": 33,
   "metadata": {},
   "outputs": [
    {
     "data": {
      "text/html": [
       "<div>\n",
       "<style scoped>\n",
       "    .dataframe tbody tr th:only-of-type {\n",
       "        vertical-align: middle;\n",
       "    }\n",
       "\n",
       "    .dataframe tbody tr th {\n",
       "        vertical-align: top;\n",
       "    }\n",
       "\n",
       "    .dataframe thead th {\n",
       "        text-align: right;\n",
       "    }\n",
       "</style>\n",
       "<table border=\"1\" class=\"dataframe\">\n",
       "  <thead>\n",
       "    <tr style=\"text-align: right;\">\n",
       "      <th></th>\n",
       "      <th>user_id</th>\n",
       "      <th>business_id</th>\n",
       "      <th>rating</th>\n",
       "      <th>date</th>\n",
       "      <th>ind</th>\n",
       "      <th>exp</th>\n",
       "      <th>time_weight</th>\n",
       "    </tr>\n",
       "  </thead>\n",
       "  <tbody>\n",
       "    <tr>\n",
       "      <th>0</th>\n",
       "      <td>_N7Ndn29bpll_961oPeEfw</td>\n",
       "      <td>y-Iw6dZflNix4BdwIyTNGA</td>\n",
       "      <td>3.0</td>\n",
       "      <td>2014-06</td>\n",
       "      <td>19</td>\n",
       "      <td>112.0</td>\n",
       "      <td>0.004992</td>\n",
       "    </tr>\n",
       "    <tr>\n",
       "      <th>1</th>\n",
       "      <td>DbccYu3OppWKl21OanZnTg</td>\n",
       "      <td>YSUcHqlKMPHHJ_cTrqtNrA</td>\n",
       "      <td>1.0</td>\n",
       "      <td>2017-12</td>\n",
       "      <td>34</td>\n",
       "      <td>154.0</td>\n",
       "      <td>0.332871</td>\n",
       "    </tr>\n",
       "    <tr>\n",
       "      <th>2</th>\n",
       "      <td>_o740mSNRhMNYuPjSJoPLg</td>\n",
       "      <td>sMzNLdhJZGzYirIWt-fMAg</td>\n",
       "      <td>5.0</td>\n",
       "      <td>2015-06</td>\n",
       "      <td>36</td>\n",
       "      <td>124.0</td>\n",
       "      <td>0.016573</td>\n",
       "    </tr>\n",
       "    <tr>\n",
       "      <th>3</th>\n",
       "      <td>8vIK6ndl8yzIdmSDnGp0tw</td>\n",
       "      <td>OVTZNSkSfbl3gVB9XQIJfw</td>\n",
       "      <td>4.0</td>\n",
       "      <td>2010-01</td>\n",
       "      <td>48</td>\n",
       "      <td>59.0</td>\n",
       "      <td>0.000025</td>\n",
       "    </tr>\n",
       "    <tr>\n",
       "      <th>4</th>\n",
       "      <td>jsOz-dWToun2VsFcFAfGww</td>\n",
       "      <td>FBSWwaE6gR7KAOyG1QhakQ</td>\n",
       "      <td>5.0</td>\n",
       "      <td>2015-01</td>\n",
       "      <td>50</td>\n",
       "      <td>119.0</td>\n",
       "      <td>0.010052</td>\n",
       "    </tr>\n",
       "  </tbody>\n",
       "</table>\n",
       "</div>"
      ],
      "text/plain": [
       "                  user_id             business_id  rating     date  ind  \\\n",
       "0  _N7Ndn29bpll_961oPeEfw  y-Iw6dZflNix4BdwIyTNGA     3.0  2014-06   19   \n",
       "1  DbccYu3OppWKl21OanZnTg  YSUcHqlKMPHHJ_cTrqtNrA     1.0  2017-12   34   \n",
       "2  _o740mSNRhMNYuPjSJoPLg  sMzNLdhJZGzYirIWt-fMAg     5.0  2015-06   36   \n",
       "3  8vIK6ndl8yzIdmSDnGp0tw  OVTZNSkSfbl3gVB9XQIJfw     4.0  2010-01   48   \n",
       "4  jsOz-dWToun2VsFcFAfGww  FBSWwaE6gR7KAOyG1QhakQ     5.0  2015-01   50   \n",
       "\n",
       "     exp  time_weight  \n",
       "0  112.0     0.004992  \n",
       "1  154.0     0.332871  \n",
       "2  124.0     0.016573  \n",
       "3   59.0     0.000025  \n",
       "4  119.0     0.010052  "
      ]
     },
     "execution_count": 33,
     "metadata": {},
     "output_type": "execute_result"
    }
   ],
   "source": [
    "'''\n",
    "calculate time decay corresponding with rating date using exponential decay\n",
    "here we use lambda as 0.1 for the first try\n",
    "'''\n",
    "m = train['date'].values\n",
    "m_sorted = sorted(m)\n",
    "time = pd.DataFrame(np.unique(m_sorted), columns = ['date'])\n",
    "time['exp'] = time.index\n",
    "time['exp'] = time['exp'].astype(np.float16)\n",
    "k = max(time['exp'])\n",
    "exp_col = np.array(time[\"exp\"])\n",
    "func = lambda x: math.exp(-0.1*(k-x))\n",
    "new_exp = list(map(func, exp_col))\n",
    "time['time_weight'] = new_exp\n",
    "train_new = train.merge(time, on='date', how='left')\n",
    "train_new.head()"
   ]
  },
  {
   "cell_type": "code",
   "execution_count": 34,
   "metadata": {},
   "outputs": [
    {
     "data": {
      "text/html": [
       "<div>\n",
       "<style scoped>\n",
       "    .dataframe tbody tr th:only-of-type {\n",
       "        vertical-align: middle;\n",
       "    }\n",
       "\n",
       "    .dataframe tbody tr th {\n",
       "        vertical-align: top;\n",
       "    }\n",
       "\n",
       "    .dataframe thead th {\n",
       "        text-align: right;\n",
       "    }\n",
       "</style>\n",
       "<table border=\"1\" class=\"dataframe\">\n",
       "  <thead>\n",
       "    <tr style=\"text-align: right;\">\n",
       "      <th>business_id</th>\n",
       "      <th>--7zmmkVg-IMGaXbuVd0SQ</th>\n",
       "      <th>--9e1ONYQuAa-CB_Rrw7Tw</th>\n",
       "      <th>--DaPTJW3-tB1vP-PfdTEg</th>\n",
       "      <th>--ujyvoQlwVoBgMYtADiLA</th>\n",
       "      <th>-050d_XIor1NpCuWkbIVaQ</th>\n",
       "      <th>-0DET7VdEQOJVJ_v6klEug</th>\n",
       "      <th>-0RkJ_uIduNLWQrphbADRw</th>\n",
       "      <th>-0WegMt6Cy966qlDKhu6jA</th>\n",
       "      <th>-0tgMGl7D9B10YjSN2ujLA</th>\n",
       "      <th>-2C96suwzrE_cqI1U69cLA</th>\n",
       "      <th>...</th>\n",
       "      <th>zw4Legbcu018p5WcZ74iWA</th>\n",
       "      <th>zw9_mqWBn1QCfZg88w0Exg</th>\n",
       "      <th>zwNC-Ow4eIMan2__bS9-rg</th>\n",
       "      <th>zwmps5SXn30g-f5wqg_r9A</th>\n",
       "      <th>zxSfGIhK3hH3vVz_pS5eaA</th>\n",
       "      <th>zyEQSfxX3FPIP6qyNsU0AA</th>\n",
       "      <th>zyPGYeXF4XKCqNN1pjFWhg</th>\n",
       "      <th>zydbdBR6-CM8UZ6WkW1DWA</th>\n",
       "      <th>zzUj3ej4vm_DtvRxNvWDEw</th>\n",
       "      <th>zzwhN7x37nyjP0ZM8oiHmw</th>\n",
       "    </tr>\n",
       "    <tr>\n",
       "      <th>user_id</th>\n",
       "      <th></th>\n",
       "      <th></th>\n",
       "      <th></th>\n",
       "      <th></th>\n",
       "      <th></th>\n",
       "      <th></th>\n",
       "      <th></th>\n",
       "      <th></th>\n",
       "      <th></th>\n",
       "      <th></th>\n",
       "      <th></th>\n",
       "      <th></th>\n",
       "      <th></th>\n",
       "      <th></th>\n",
       "      <th></th>\n",
       "      <th></th>\n",
       "      <th></th>\n",
       "      <th></th>\n",
       "      <th></th>\n",
       "      <th></th>\n",
       "      <th></th>\n",
       "    </tr>\n",
       "  </thead>\n",
       "  <tbody>\n",
       "    <tr>\n",
       "      <th>---1lKK3aKOuomHnwAkAow</th>\n",
       "      <td>NaN</td>\n",
       "      <td>0.000006</td>\n",
       "      <td>NaN</td>\n",
       "      <td>NaN</td>\n",
       "      <td>NaN</td>\n",
       "      <td>NaN</td>\n",
       "      <td>NaN</td>\n",
       "      <td>NaN</td>\n",
       "      <td>NaN</td>\n",
       "      <td>NaN</td>\n",
       "      <td>...</td>\n",
       "      <td>NaN</td>\n",
       "      <td>NaN</td>\n",
       "      <td>NaN</td>\n",
       "      <td>NaN</td>\n",
       "      <td>NaN</td>\n",
       "      <td>NaN</td>\n",
       "      <td>NaN</td>\n",
       "      <td>NaN</td>\n",
       "      <td>NaN</td>\n",
       "      <td>NaN</td>\n",
       "    </tr>\n",
       "    <tr>\n",
       "      <th>--2HUmLkcNHZp0xw6AMBPg</th>\n",
       "      <td>NaN</td>\n",
       "      <td>NaN</td>\n",
       "      <td>NaN</td>\n",
       "      <td>NaN</td>\n",
       "      <td>NaN</td>\n",
       "      <td>NaN</td>\n",
       "      <td>NaN</td>\n",
       "      <td>NaN</td>\n",
       "      <td>NaN</td>\n",
       "      <td>NaN</td>\n",
       "      <td>...</td>\n",
       "      <td>NaN</td>\n",
       "      <td>NaN</td>\n",
       "      <td>NaN</td>\n",
       "      <td>NaN</td>\n",
       "      <td>NaN</td>\n",
       "      <td>NaN</td>\n",
       "      <td>NaN</td>\n",
       "      <td>NaN</td>\n",
       "      <td>NaN</td>\n",
       "      <td>NaN</td>\n",
       "    </tr>\n",
       "    <tr>\n",
       "      <th>--2vR0DIsmQ6WfcSzKWigw</th>\n",
       "      <td>NaN</td>\n",
       "      <td>NaN</td>\n",
       "      <td>NaN</td>\n",
       "      <td>NaN</td>\n",
       "      <td>NaN</td>\n",
       "      <td>NaN</td>\n",
       "      <td>NaN</td>\n",
       "      <td>NaN</td>\n",
       "      <td>NaN</td>\n",
       "      <td>NaN</td>\n",
       "      <td>...</td>\n",
       "      <td>NaN</td>\n",
       "      <td>NaN</td>\n",
       "      <td>NaN</td>\n",
       "      <td>NaN</td>\n",
       "      <td>NaN</td>\n",
       "      <td>NaN</td>\n",
       "      <td>NaN</td>\n",
       "      <td>NaN</td>\n",
       "      <td>NaN</td>\n",
       "      <td>NaN</td>\n",
       "    </tr>\n",
       "    <tr>\n",
       "      <th>--4rAAfZnEIAKJE80aIiYg</th>\n",
       "      <td>NaN</td>\n",
       "      <td>NaN</td>\n",
       "      <td>NaN</td>\n",
       "      <td>NaN</td>\n",
       "      <td>NaN</td>\n",
       "      <td>NaN</td>\n",
       "      <td>NaN</td>\n",
       "      <td>NaN</td>\n",
       "      <td>NaN</td>\n",
       "      <td>NaN</td>\n",
       "      <td>...</td>\n",
       "      <td>NaN</td>\n",
       "      <td>NaN</td>\n",
       "      <td>NaN</td>\n",
       "      <td>NaN</td>\n",
       "      <td>NaN</td>\n",
       "      <td>NaN</td>\n",
       "      <td>NaN</td>\n",
       "      <td>NaN</td>\n",
       "      <td>NaN</td>\n",
       "      <td>NaN</td>\n",
       "    </tr>\n",
       "    <tr>\n",
       "      <th>--BumyUHiO_7YsHurb9Hkw</th>\n",
       "      <td>NaN</td>\n",
       "      <td>NaN</td>\n",
       "      <td>NaN</td>\n",
       "      <td>NaN</td>\n",
       "      <td>NaN</td>\n",
       "      <td>NaN</td>\n",
       "      <td>NaN</td>\n",
       "      <td>NaN</td>\n",
       "      <td>NaN</td>\n",
       "      <td>NaN</td>\n",
       "      <td>...</td>\n",
       "      <td>NaN</td>\n",
       "      <td>NaN</td>\n",
       "      <td>NaN</td>\n",
       "      <td>NaN</td>\n",
       "      <td>NaN</td>\n",
       "      <td>NaN</td>\n",
       "      <td>NaN</td>\n",
       "      <td>NaN</td>\n",
       "      <td>NaN</td>\n",
       "      <td>NaN</td>\n",
       "    </tr>\n",
       "  </tbody>\n",
       "</table>\n",
       "<p>5 rows × 8493 columns</p>\n",
       "</div>"
      ],
      "text/plain": [
       "business_id             --7zmmkVg-IMGaXbuVd0SQ  --9e1ONYQuAa-CB_Rrw7Tw  \\\n",
       "user_id                                                                  \n",
       "---1lKK3aKOuomHnwAkAow                     NaN                0.000006   \n",
       "--2HUmLkcNHZp0xw6AMBPg                     NaN                     NaN   \n",
       "--2vR0DIsmQ6WfcSzKWigw                     NaN                     NaN   \n",
       "--4rAAfZnEIAKJE80aIiYg                     NaN                     NaN   \n",
       "--BumyUHiO_7YsHurb9Hkw                     NaN                     NaN   \n",
       "\n",
       "business_id             --DaPTJW3-tB1vP-PfdTEg  --ujyvoQlwVoBgMYtADiLA  \\\n",
       "user_id                                                                  \n",
       "---1lKK3aKOuomHnwAkAow                     NaN                     NaN   \n",
       "--2HUmLkcNHZp0xw6AMBPg                     NaN                     NaN   \n",
       "--2vR0DIsmQ6WfcSzKWigw                     NaN                     NaN   \n",
       "--4rAAfZnEIAKJE80aIiYg                     NaN                     NaN   \n",
       "--BumyUHiO_7YsHurb9Hkw                     NaN                     NaN   \n",
       "\n",
       "business_id             -050d_XIor1NpCuWkbIVaQ  -0DET7VdEQOJVJ_v6klEug  \\\n",
       "user_id                                                                  \n",
       "---1lKK3aKOuomHnwAkAow                     NaN                     NaN   \n",
       "--2HUmLkcNHZp0xw6AMBPg                     NaN                     NaN   \n",
       "--2vR0DIsmQ6WfcSzKWigw                     NaN                     NaN   \n",
       "--4rAAfZnEIAKJE80aIiYg                     NaN                     NaN   \n",
       "--BumyUHiO_7YsHurb9Hkw                     NaN                     NaN   \n",
       "\n",
       "business_id             -0RkJ_uIduNLWQrphbADRw  -0WegMt6Cy966qlDKhu6jA  \\\n",
       "user_id                                                                  \n",
       "---1lKK3aKOuomHnwAkAow                     NaN                     NaN   \n",
       "--2HUmLkcNHZp0xw6AMBPg                     NaN                     NaN   \n",
       "--2vR0DIsmQ6WfcSzKWigw                     NaN                     NaN   \n",
       "--4rAAfZnEIAKJE80aIiYg                     NaN                     NaN   \n",
       "--BumyUHiO_7YsHurb9Hkw                     NaN                     NaN   \n",
       "\n",
       "business_id             -0tgMGl7D9B10YjSN2ujLA  -2C96suwzrE_cqI1U69cLA  ...  \\\n",
       "user_id                                                                 ...   \n",
       "---1lKK3aKOuomHnwAkAow                     NaN                     NaN  ...   \n",
       "--2HUmLkcNHZp0xw6AMBPg                     NaN                     NaN  ...   \n",
       "--2vR0DIsmQ6WfcSzKWigw                     NaN                     NaN  ...   \n",
       "--4rAAfZnEIAKJE80aIiYg                     NaN                     NaN  ...   \n",
       "--BumyUHiO_7YsHurb9Hkw                     NaN                     NaN  ...   \n",
       "\n",
       "business_id             zw4Legbcu018p5WcZ74iWA  zw9_mqWBn1QCfZg88w0Exg  \\\n",
       "user_id                                                                  \n",
       "---1lKK3aKOuomHnwAkAow                     NaN                     NaN   \n",
       "--2HUmLkcNHZp0xw6AMBPg                     NaN                     NaN   \n",
       "--2vR0DIsmQ6WfcSzKWigw                     NaN                     NaN   \n",
       "--4rAAfZnEIAKJE80aIiYg                     NaN                     NaN   \n",
       "--BumyUHiO_7YsHurb9Hkw                     NaN                     NaN   \n",
       "\n",
       "business_id             zwNC-Ow4eIMan2__bS9-rg  zwmps5SXn30g-f5wqg_r9A  \\\n",
       "user_id                                                                  \n",
       "---1lKK3aKOuomHnwAkAow                     NaN                     NaN   \n",
       "--2HUmLkcNHZp0xw6AMBPg                     NaN                     NaN   \n",
       "--2vR0DIsmQ6WfcSzKWigw                     NaN                     NaN   \n",
       "--4rAAfZnEIAKJE80aIiYg                     NaN                     NaN   \n",
       "--BumyUHiO_7YsHurb9Hkw                     NaN                     NaN   \n",
       "\n",
       "business_id             zxSfGIhK3hH3vVz_pS5eaA  zyEQSfxX3FPIP6qyNsU0AA  \\\n",
       "user_id                                                                  \n",
       "---1lKK3aKOuomHnwAkAow                     NaN                     NaN   \n",
       "--2HUmLkcNHZp0xw6AMBPg                     NaN                     NaN   \n",
       "--2vR0DIsmQ6WfcSzKWigw                     NaN                     NaN   \n",
       "--4rAAfZnEIAKJE80aIiYg                     NaN                     NaN   \n",
       "--BumyUHiO_7YsHurb9Hkw                     NaN                     NaN   \n",
       "\n",
       "business_id             zyPGYeXF4XKCqNN1pjFWhg  zydbdBR6-CM8UZ6WkW1DWA  \\\n",
       "user_id                                                                  \n",
       "---1lKK3aKOuomHnwAkAow                     NaN                     NaN   \n",
       "--2HUmLkcNHZp0xw6AMBPg                     NaN                     NaN   \n",
       "--2vR0DIsmQ6WfcSzKWigw                     NaN                     NaN   \n",
       "--4rAAfZnEIAKJE80aIiYg                     NaN                     NaN   \n",
       "--BumyUHiO_7YsHurb9Hkw                     NaN                     NaN   \n",
       "\n",
       "business_id             zzUj3ej4vm_DtvRxNvWDEw  zzwhN7x37nyjP0ZM8oiHmw  \n",
       "user_id                                                                 \n",
       "---1lKK3aKOuomHnwAkAow                     NaN                     NaN  \n",
       "--2HUmLkcNHZp0xw6AMBPg                     NaN                     NaN  \n",
       "--2vR0DIsmQ6WfcSzKWigw                     NaN                     NaN  \n",
       "--4rAAfZnEIAKJE80aIiYg                     NaN                     NaN  \n",
       "--BumyUHiO_7YsHurb9Hkw                     NaN                     NaN  \n",
       "\n",
       "[5 rows x 8493 columns]"
      ]
     },
     "execution_count": 34,
     "metadata": {},
     "output_type": "execute_result"
    }
   ],
   "source": [
    "'''\n",
    "create a data matrix for each rating's time weight\n",
    "'''\n",
    "train_table_new = pd.pivot_table(train_new, values='rating', index=['user_id'], columns=['business_id'])\n",
    "time_table = pd.pivot_table(train_new, values='time_weight', index=['user_id'], columns=['business_id'])\n",
    "time_table.head()"
   ]
  },
  {
   "cell_type": "code",
   "execution_count": 16,
   "metadata": {},
   "outputs": [],
   "source": [
    "'''\n",
    "since time-aware user-based model has the same similar matrix with user-based model\n",
    "we continue using update_pearson function, and modify predict function a little to predict rating with time weight\n",
    "'''\n",
    "def predict_time(df, time_table, k):\n",
    "    \n",
    "    mu = df.mean(axis=1).values\n",
    "    d = update_pearson(df)\n",
    "    d = d.where(d.apply(lambda x: x.isin(x.nlargest(k)), axis=0), 0)\n",
    "    ti = time_table.fillna(0)\n",
    "    time_val = ti.values\n",
    "    d_val = d.values\n",
    "    \n",
    "    subtract = df.sub(df.mean(axis=1), axis=0)\n",
    "    temp = np.multiply(time_val, subtract)\n",
    "    r = np.where(np.isnan(d.values), 0, d.values).dot(np.where(np.isnan(temp.values), 0, temp.values))\n",
    "    dem = np.where(np.isnan(d.values), 0, abs(d.values)).dot(np.where(np.isnan(time_table.values), 0, time_table.values))\n",
    "    p_sum = dem.sum(axis=0)\n",
    "    cp = df.values.copy()\n",
    "    \n",
    "    for (i,j), values in np.ndenumerate(cp):\n",
    "        values = mu[i] + r[i,j]/p_sum[j]\n",
    "        cp[i][j] = values\n",
    "        \n",
    "    df_result = pd.DataFrame(cp)\n",
    "    df_result.columns = list(df.columns)\n",
    "    df_result.index = list(df.index)\n",
    "    \n",
    "    return df_result"
   ]
  },
  {
   "cell_type": "code",
   "execution_count": 36,
   "metadata": {},
   "outputs": [],
   "source": [
    "'''\n",
    "here we use neighbor size as 50 and lambda as 0.1 for the first try\n",
    "'''\n",
    "pre_time = predict_time(train_table_new, time_table, 50)"
   ]
  },
  {
   "cell_type": "code",
   "execution_count": 37,
   "metadata": {},
   "outputs": [
    {
     "data": {
      "text/html": [
       "<div>\n",
       "<style scoped>\n",
       "    .dataframe tbody tr th:only-of-type {\n",
       "        vertical-align: middle;\n",
       "    }\n",
       "\n",
       "    .dataframe tbody tr th {\n",
       "        vertical-align: top;\n",
       "    }\n",
       "\n",
       "    .dataframe thead th {\n",
       "        text-align: right;\n",
       "    }\n",
       "</style>\n",
       "<table border=\"1\" class=\"dataframe\">\n",
       "  <thead>\n",
       "    <tr style=\"text-align: right;\">\n",
       "      <th></th>\n",
       "      <th>--7zmmkVg-IMGaXbuVd0SQ</th>\n",
       "      <th>--9e1ONYQuAa-CB_Rrw7Tw</th>\n",
       "      <th>--DaPTJW3-tB1vP-PfdTEg</th>\n",
       "      <th>--ujyvoQlwVoBgMYtADiLA</th>\n",
       "      <th>-050d_XIor1NpCuWkbIVaQ</th>\n",
       "      <th>-0DET7VdEQOJVJ_v6klEug</th>\n",
       "      <th>-0RkJ_uIduNLWQrphbADRw</th>\n",
       "      <th>-0WegMt6Cy966qlDKhu6jA</th>\n",
       "      <th>-0tgMGl7D9B10YjSN2ujLA</th>\n",
       "      <th>-2C96suwzrE_cqI1U69cLA</th>\n",
       "      <th>...</th>\n",
       "      <th>zw4Legbcu018p5WcZ74iWA</th>\n",
       "      <th>zw9_mqWBn1QCfZg88w0Exg</th>\n",
       "      <th>zwNC-Ow4eIMan2__bS9-rg</th>\n",
       "      <th>zwmps5SXn30g-f5wqg_r9A</th>\n",
       "      <th>zxSfGIhK3hH3vVz_pS5eaA</th>\n",
       "      <th>zyEQSfxX3FPIP6qyNsU0AA</th>\n",
       "      <th>zyPGYeXF4XKCqNN1pjFWhg</th>\n",
       "      <th>zydbdBR6-CM8UZ6WkW1DWA</th>\n",
       "      <th>zzUj3ej4vm_DtvRxNvWDEw</th>\n",
       "      <th>zzwhN7x37nyjP0ZM8oiHmw</th>\n",
       "    </tr>\n",
       "  </thead>\n",
       "  <tbody>\n",
       "    <tr>\n",
       "      <th>---1lKK3aKOuomHnwAkAow</th>\n",
       "      <td>3.875000</td>\n",
       "      <td>3.875000</td>\n",
       "      <td>3.875000</td>\n",
       "      <td>3.875000</td>\n",
       "      <td>3.875000</td>\n",
       "      <td>3.875000</td>\n",
       "      <td>3.875000</td>\n",
       "      <td>3.875000</td>\n",
       "      <td>3.875000</td>\n",
       "      <td>3.875000</td>\n",
       "      <td>...</td>\n",
       "      <td>3.875000</td>\n",
       "      <td>3.875000</td>\n",
       "      <td>3.875004</td>\n",
       "      <td>3.875000</td>\n",
       "      <td>3.875000</td>\n",
       "      <td>3.875000</td>\n",
       "      <td>3.875000</td>\n",
       "      <td>3.875000</td>\n",
       "      <td>3.875000</td>\n",
       "      <td>3.875000</td>\n",
       "    </tr>\n",
       "    <tr>\n",
       "      <th>--2HUmLkcNHZp0xw6AMBPg</th>\n",
       "      <td>4.583333</td>\n",
       "      <td>4.583333</td>\n",
       "      <td>4.583333</td>\n",
       "      <td>4.583333</td>\n",
       "      <td>4.583357</td>\n",
       "      <td>4.583333</td>\n",
       "      <td>4.583333</td>\n",
       "      <td>4.583333</td>\n",
       "      <td>4.583333</td>\n",
       "      <td>4.583333</td>\n",
       "      <td>...</td>\n",
       "      <td>4.583333</td>\n",
       "      <td>4.583333</td>\n",
       "      <td>4.583333</td>\n",
       "      <td>4.583333</td>\n",
       "      <td>4.583333</td>\n",
       "      <td>4.583333</td>\n",
       "      <td>4.583333</td>\n",
       "      <td>4.583333</td>\n",
       "      <td>4.583333</td>\n",
       "      <td>4.583333</td>\n",
       "    </tr>\n",
       "    <tr>\n",
       "      <th>--2vR0DIsmQ6WfcSzKWigw</th>\n",
       "      <td>3.666667</td>\n",
       "      <td>3.666667</td>\n",
       "      <td>3.666667</td>\n",
       "      <td>3.666667</td>\n",
       "      <td>3.666667</td>\n",
       "      <td>3.666667</td>\n",
       "      <td>3.666667</td>\n",
       "      <td>3.666667</td>\n",
       "      <td>3.666667</td>\n",
       "      <td>3.666667</td>\n",
       "      <td>...</td>\n",
       "      <td>3.666667</td>\n",
       "      <td>3.666667</td>\n",
       "      <td>3.666667</td>\n",
       "      <td>3.666667</td>\n",
       "      <td>3.666667</td>\n",
       "      <td>3.666667</td>\n",
       "      <td>3.666667</td>\n",
       "      <td>3.666667</td>\n",
       "      <td>3.666667</td>\n",
       "      <td>3.666667</td>\n",
       "    </tr>\n",
       "    <tr>\n",
       "      <th>--4rAAfZnEIAKJE80aIiYg</th>\n",
       "      <td>2.500000</td>\n",
       "      <td>2.500000</td>\n",
       "      <td>2.500000</td>\n",
       "      <td>2.500000</td>\n",
       "      <td>2.500000</td>\n",
       "      <td>2.500000</td>\n",
       "      <td>2.500000</td>\n",
       "      <td>2.500000</td>\n",
       "      <td>2.500000</td>\n",
       "      <td>2.500000</td>\n",
       "      <td>...</td>\n",
       "      <td>2.500000</td>\n",
       "      <td>2.500000</td>\n",
       "      <td>2.500000</td>\n",
       "      <td>2.500000</td>\n",
       "      <td>2.500000</td>\n",
       "      <td>2.500000</td>\n",
       "      <td>2.500000</td>\n",
       "      <td>2.500000</td>\n",
       "      <td>2.500000</td>\n",
       "      <td>2.500000</td>\n",
       "    </tr>\n",
       "    <tr>\n",
       "      <th>--BumyUHiO_7YsHurb9Hkw</th>\n",
       "      <td>4.142857</td>\n",
       "      <td>4.142857</td>\n",
       "      <td>4.142857</td>\n",
       "      <td>4.142857</td>\n",
       "      <td>4.142857</td>\n",
       "      <td>4.142857</td>\n",
       "      <td>4.142857</td>\n",
       "      <td>4.142857</td>\n",
       "      <td>4.142857</td>\n",
       "      <td>4.142857</td>\n",
       "      <td>...</td>\n",
       "      <td>4.142857</td>\n",
       "      <td>4.142857</td>\n",
       "      <td>4.142857</td>\n",
       "      <td>4.142857</td>\n",
       "      <td>4.142857</td>\n",
       "      <td>4.142857</td>\n",
       "      <td>4.142857</td>\n",
       "      <td>4.142857</td>\n",
       "      <td>4.142857</td>\n",
       "      <td>4.142857</td>\n",
       "    </tr>\n",
       "  </tbody>\n",
       "</table>\n",
       "<p>5 rows × 8493 columns</p>\n",
       "</div>"
      ],
      "text/plain": [
       "                        --7zmmkVg-IMGaXbuVd0SQ  --9e1ONYQuAa-CB_Rrw7Tw  \\\n",
       "---1lKK3aKOuomHnwAkAow                3.875000                3.875000   \n",
       "--2HUmLkcNHZp0xw6AMBPg                4.583333                4.583333   \n",
       "--2vR0DIsmQ6WfcSzKWigw                3.666667                3.666667   \n",
       "--4rAAfZnEIAKJE80aIiYg                2.500000                2.500000   \n",
       "--BumyUHiO_7YsHurb9Hkw                4.142857                4.142857   \n",
       "\n",
       "                        --DaPTJW3-tB1vP-PfdTEg  --ujyvoQlwVoBgMYtADiLA  \\\n",
       "---1lKK3aKOuomHnwAkAow                3.875000                3.875000   \n",
       "--2HUmLkcNHZp0xw6AMBPg                4.583333                4.583333   \n",
       "--2vR0DIsmQ6WfcSzKWigw                3.666667                3.666667   \n",
       "--4rAAfZnEIAKJE80aIiYg                2.500000                2.500000   \n",
       "--BumyUHiO_7YsHurb9Hkw                4.142857                4.142857   \n",
       "\n",
       "                        -050d_XIor1NpCuWkbIVaQ  -0DET7VdEQOJVJ_v6klEug  \\\n",
       "---1lKK3aKOuomHnwAkAow                3.875000                3.875000   \n",
       "--2HUmLkcNHZp0xw6AMBPg                4.583357                4.583333   \n",
       "--2vR0DIsmQ6WfcSzKWigw                3.666667                3.666667   \n",
       "--4rAAfZnEIAKJE80aIiYg                2.500000                2.500000   \n",
       "--BumyUHiO_7YsHurb9Hkw                4.142857                4.142857   \n",
       "\n",
       "                        -0RkJ_uIduNLWQrphbADRw  -0WegMt6Cy966qlDKhu6jA  \\\n",
       "---1lKK3aKOuomHnwAkAow                3.875000                3.875000   \n",
       "--2HUmLkcNHZp0xw6AMBPg                4.583333                4.583333   \n",
       "--2vR0DIsmQ6WfcSzKWigw                3.666667                3.666667   \n",
       "--4rAAfZnEIAKJE80aIiYg                2.500000                2.500000   \n",
       "--BumyUHiO_7YsHurb9Hkw                4.142857                4.142857   \n",
       "\n",
       "                        -0tgMGl7D9B10YjSN2ujLA  -2C96suwzrE_cqI1U69cLA  ...  \\\n",
       "---1lKK3aKOuomHnwAkAow                3.875000                3.875000  ...   \n",
       "--2HUmLkcNHZp0xw6AMBPg                4.583333                4.583333  ...   \n",
       "--2vR0DIsmQ6WfcSzKWigw                3.666667                3.666667  ...   \n",
       "--4rAAfZnEIAKJE80aIiYg                2.500000                2.500000  ...   \n",
       "--BumyUHiO_7YsHurb9Hkw                4.142857                4.142857  ...   \n",
       "\n",
       "                        zw4Legbcu018p5WcZ74iWA  zw9_mqWBn1QCfZg88w0Exg  \\\n",
       "---1lKK3aKOuomHnwAkAow                3.875000                3.875000   \n",
       "--2HUmLkcNHZp0xw6AMBPg                4.583333                4.583333   \n",
       "--2vR0DIsmQ6WfcSzKWigw                3.666667                3.666667   \n",
       "--4rAAfZnEIAKJE80aIiYg                2.500000                2.500000   \n",
       "--BumyUHiO_7YsHurb9Hkw                4.142857                4.142857   \n",
       "\n",
       "                        zwNC-Ow4eIMan2__bS9-rg  zwmps5SXn30g-f5wqg_r9A  \\\n",
       "---1lKK3aKOuomHnwAkAow                3.875004                3.875000   \n",
       "--2HUmLkcNHZp0xw6AMBPg                4.583333                4.583333   \n",
       "--2vR0DIsmQ6WfcSzKWigw                3.666667                3.666667   \n",
       "--4rAAfZnEIAKJE80aIiYg                2.500000                2.500000   \n",
       "--BumyUHiO_7YsHurb9Hkw                4.142857                4.142857   \n",
       "\n",
       "                        zxSfGIhK3hH3vVz_pS5eaA  zyEQSfxX3FPIP6qyNsU0AA  \\\n",
       "---1lKK3aKOuomHnwAkAow                3.875000                3.875000   \n",
       "--2HUmLkcNHZp0xw6AMBPg                4.583333                4.583333   \n",
       "--2vR0DIsmQ6WfcSzKWigw                3.666667                3.666667   \n",
       "--4rAAfZnEIAKJE80aIiYg                2.500000                2.500000   \n",
       "--BumyUHiO_7YsHurb9Hkw                4.142857                4.142857   \n",
       "\n",
       "                        zyPGYeXF4XKCqNN1pjFWhg  zydbdBR6-CM8UZ6WkW1DWA  \\\n",
       "---1lKK3aKOuomHnwAkAow                3.875000                3.875000   \n",
       "--2HUmLkcNHZp0xw6AMBPg                4.583333                4.583333   \n",
       "--2vR0DIsmQ6WfcSzKWigw                3.666667                3.666667   \n",
       "--4rAAfZnEIAKJE80aIiYg                2.500000                2.500000   \n",
       "--BumyUHiO_7YsHurb9Hkw                4.142857                4.142857   \n",
       "\n",
       "                        zzUj3ej4vm_DtvRxNvWDEw  zzwhN7x37nyjP0ZM8oiHmw  \n",
       "---1lKK3aKOuomHnwAkAow                3.875000                3.875000  \n",
       "--2HUmLkcNHZp0xw6AMBPg                4.583333                4.583333  \n",
       "--2vR0DIsmQ6WfcSzKWigw                3.666667                3.666667  \n",
       "--4rAAfZnEIAKJE80aIiYg                2.500000                2.500000  \n",
       "--BumyUHiO_7YsHurb9Hkw                4.142857                4.142857  \n",
       "\n",
       "[5 rows x 8493 columns]"
      ]
     },
     "execution_count": 37,
     "metadata": {},
     "output_type": "execute_result"
    }
   ],
   "source": [
    "pre_time.head()"
   ]
  },
  {
   "cell_type": "markdown",
   "metadata": {},
   "source": [
    "## Recommend"
   ]
  },
  {
   "cell_type": "code",
   "execution_count": 38,
   "metadata": {},
   "outputs": [
    {
     "data": {
      "text/plain": [
       "[('--2vR0DIsmQ6WfcSzKWigw', '3nzK3K-Dfo1L6mpB8FTKkw', 3.6736897944424443),\n",
       " ('--2vR0DIsmQ6WfcSzKWigw', '7d7pZlKji6NozhHP1SrVqw', 3.672532427779577),\n",
       " ('--2vR0DIsmQ6WfcSzKWigw', 'SLJX2dksO_BeNMQUe3Nr8Q', 3.6723831862174987),\n",
       " ('--2vR0DIsmQ6WfcSzKWigw', 'uoUa8ugZLrly0bA268IqEg', 3.6715072814633736),\n",
       " ('--2vR0DIsmQ6WfcSzKWigw', 'WbbZDPuOEZxFprio05Bb0w', 3.6705669602245528)]"
      ]
     },
     "execution_count": 38,
     "metadata": {},
     "output_type": "execute_result"
    }
   ],
   "source": [
    "'''\n",
    "we use the same recommend function as before\n",
    "'''\n",
    "recommend(pre_time, 5, '--2vR0DIsmQ6WfcSzKWigw')"
   ]
  },
  {
   "cell_type": "markdown",
   "metadata": {},
   "source": [
    "## Evaluation"
   ]
  },
  {
   "cell_type": "markdown",
   "metadata": {},
   "source": [
    "Here we use the same evaluation method as the baseline model, which is MSE and NDCG."
   ]
  },
  {
   "cell_type": "code",
   "execution_count": 43,
   "metadata": {},
   "outputs": [],
   "source": [
    "'''\n",
    "we try different neighbor size to see which one has the best performance\n",
    "input: a list of different k\n",
    "output: MSE and NDCG for each k\n",
    "'''\n",
    "def tune_neighbor_time(list_k):\n",
    "    mse = []\n",
    "    ndcg = []\n",
    "    \n",
    "    for k in list_k:\n",
    "        comp = predict_time(train_table_new, time_table, k)\n",
    "        comp['id'] = list(train_table_new.index)\n",
    "        comp = pd.melt(comp, id_vars=['id'])\n",
    "        comp.rename(columns = {'id':'user_id', 'variable':'business_id'}, inplace = True)\n",
    "        combine = pd.merge(comp, test, how='inner', on=['user_id', 'business_id'])\n",
    "        combine = combine.dropna(subset=['value'])\n",
    "\n",
    "        pred = combine.value\n",
    "        true = combine.rating\n",
    "        mse.append(mean_squared_error(pred, true))\n",
    "        ndcg.append(ndcg_score(true.values, pred.values, k=10, gains=\"exponential\"))\n",
    "    \n",
    "    evaluate = list(zip(mse, ndcg))\n",
    "  \n",
    "    return evaluate"
   ]
  },
  {
   "cell_type": "code",
   "execution_count": 44,
   "metadata": {},
   "outputs": [],
   "source": [
    "list_k = [5, 10, 50, 100]\n",
    "metric_1 = tune_neighbor_time(list_k)"
   ]
  },
  {
   "cell_type": "code",
   "execution_count": 45,
   "metadata": {},
   "outputs": [
    {
     "data": {
      "text/html": [
       "<div>\n",
       "<style scoped>\n",
       "    .dataframe tbody tr th:only-of-type {\n",
       "        vertical-align: middle;\n",
       "    }\n",
       "\n",
       "    .dataframe tbody tr th {\n",
       "        vertical-align: top;\n",
       "    }\n",
       "\n",
       "    .dataframe thead th {\n",
       "        text-align: right;\n",
       "    }\n",
       "</style>\n",
       "<table border=\"1\" class=\"dataframe\">\n",
       "  <thead>\n",
       "    <tr style=\"text-align: right;\">\n",
       "      <th></th>\n",
       "      <th>mse</th>\n",
       "      <th>ndcg</th>\n",
       "      <th>k</th>\n",
       "    </tr>\n",
       "  </thead>\n",
       "  <tbody>\n",
       "    <tr>\n",
       "      <th>0</th>\n",
       "      <td>1.327774</td>\n",
       "      <td>1.000000</td>\n",
       "      <td>5</td>\n",
       "    </tr>\n",
       "    <tr>\n",
       "      <th>1</th>\n",
       "      <td>1.333515</td>\n",
       "      <td>0.950745</td>\n",
       "      <td>10</td>\n",
       "    </tr>\n",
       "    <tr>\n",
       "      <th>2</th>\n",
       "      <td>1.342829</td>\n",
       "      <td>1.000000</td>\n",
       "      <td>50</td>\n",
       "    </tr>\n",
       "    <tr>\n",
       "      <th>3</th>\n",
       "      <td>1.344806</td>\n",
       "      <td>1.000000</td>\n",
       "      <td>100</td>\n",
       "    </tr>\n",
       "  </tbody>\n",
       "</table>\n",
       "</div>"
      ],
      "text/plain": [
       "        mse      ndcg    k\n",
       "0  1.327774  1.000000    5\n",
       "1  1.333515  0.950745   10\n",
       "2  1.342829  1.000000   50\n",
       "3  1.344806  1.000000  100"
      ]
     },
     "execution_count": 45,
     "metadata": {},
     "output_type": "execute_result"
    }
   ],
   "source": [
    "metric_1 = pd.DataFrame(metric_1, columns=['mse','ndcg'])\n",
    "metric_1['k'] = list_k\n",
    "metric_1"
   ]
  },
  {
   "cell_type": "code",
   "execution_count": 46,
   "metadata": {},
   "outputs": [
    {
     "data": {
      "image/png": "[encoded data removed]",
      "text/plain": [
       "<Figure size 432x288 with 1 Axes>"
      ]
     },
     "metadata": {
      "needs_background": "light"
     },
     "output_type": "display_data"
    }
   ],
   "source": [
    "plt.plot('k', 'mse', data=metric_1, marker='', color='olive', linewidth=2, linestyle='dashed', label=\"mse\")\n",
    "plt.plot('k', 'ndcg', data=metric_1, marker='', color='olive', linewidth=2, label=\"ndcg\")\n",
    "plt.legend()\n",
    "plt.show()"
   ]
  },
  {
   "cell_type": "markdown",
   "metadata": {},
   "source": [
    "Based on the above graph, we can conclude that this model is good since the MSE is small and NDCG is close to 1 and even equal to 1 for some neighbor sizes, but it is not good as the baseline model. Moreover, we can see that MSE increases as the neighbor size increases, but NDCG is the best when neighbor size is 10. Recall that we want to MSE to be as small as possible and NDCG as large as possible. Thus, in this case, I will suggest that neighbor size 5 is better for this model."
   ]
  },
  {
   "cell_type": "code",
   "execution_count": 72,
   "metadata": {},
   "outputs": [],
   "source": [
    "'''\n",
    "we try different lambda to see which one has the best performance\n",
    "input: a list of different lambda\n",
    "output: MSE and NDCG for each lambda\n",
    "'''\n",
    "def tune_lamda(list_lamda):\n",
    "    mse = []\n",
    "    ndcg = []\n",
    "    \n",
    "    for l in list_lamda:\n",
    "        p = train['date'].values\n",
    "        p_sorted = sorted(p)\n",
    "        time_p = pd.DataFrame(np.unique(p_sorted), columns = ['date'])\n",
    "        time_p['exp'] = time_p.index\n",
    "        time_p['exp'] = time_p['exp'].astype(np.float16)\n",
    "        k_p = max(time_p['exp'])\n",
    "        exp_col_p = np.array(time_p[\"exp\"])\n",
    "        func_p = lambda x: math.exp(-l*(k_p-x))\n",
    "        new_exp_p = list(map(func_p, exp_col_p))\n",
    "        time_p['time_weight'] = new_exp_p\n",
    "        train_new_p = train.merge(time_p, on='date', how='left')\n",
    "        train_table_p = pd.pivot_table(train_new_p, values='rating', index=['user_id'], columns=['business_id'])\n",
    "        time_table_p = pd.pivot_table(train_new_p, values='time_weight', index=['user_id'], columns=['business_id'])\n",
    "\n",
    "        comp = predict_time(train_table_p, time_table_p, 5)\n",
    "        comp['id'] = list(train_table_p.index)\n",
    "        comp = pd.melt(comp, id_vars=['id'])\n",
    "        comp.rename(columns = {'id':'user_id', 'variable':'business_id'}, inplace = True)\n",
    "        combine = pd.merge(comp, test, how='inner', on=['user_id', 'business_id'])\n",
    "        combine = combine.dropna(subset=['value'])\n",
    "\n",
    "        pred = combine.value\n",
    "        true = combine.rating\n",
    "        mse.append(mean_squared_error(pred, true))\n",
    "        ndcg.append(ndcg_score(true.values, pred.values, k=10, gains=\"exponential\"))\n",
    "    \n",
    "    evaluate = list(zip(mse, ndcg))\n",
    "    \n",
    "    return evaluate"
   ]
  },
  {
   "cell_type": "code",
   "execution_count": 817,
   "metadata": {},
   "outputs": [],
   "source": [
    "list_lamda = [0.001, 0.01, 0.1, 0.5]\n",
    "metric_2 = tune_lamda(list_lamda)"
   ]
  },
  {
   "cell_type": "code",
   "execution_count": 3,
   "metadata": {},
   "outputs": [
    {
     "data": {
      "text/html": [
       "<div>\n",
       "<style scoped>\n",
       "    .dataframe tbody tr th:only-of-type {\n",
       "        vertical-align: middle;\n",
       "    }\n",
       "\n",
       "    .dataframe tbody tr th {\n",
       "        vertical-align: top;\n",
       "    }\n",
       "\n",
       "    .dataframe thead th {\n",
       "        text-align: right;\n",
       "    }\n",
       "</style>\n",
       "<table border=\"1\" class=\"dataframe\">\n",
       "  <thead>\n",
       "    <tr style=\"text-align: right;\">\n",
       "      <th></th>\n",
       "      <th>mse</th>\n",
       "      <th>ndcg</th>\n",
       "      <th>lamda</th>\n",
       "    </tr>\n",
       "  </thead>\n",
       "  <tbody>\n",
       "    <tr>\n",
       "      <th>0</th>\n",
       "      <td>1.377390</td>\n",
       "      <td>1.0</td>\n",
       "      <td>0.001</td>\n",
       "    </tr>\n",
       "    <tr>\n",
       "      <th>1</th>\n",
       "      <td>1.347982</td>\n",
       "      <td>1.0</td>\n",
       "      <td>0.010</td>\n",
       "    </tr>\n",
       "    <tr>\n",
       "      <th>2</th>\n",
       "      <td>1.342829</td>\n",
       "      <td>1.0</td>\n",
       "      <td>0.100</td>\n",
       "    </tr>\n",
       "    <tr>\n",
       "      <th>3</th>\n",
       "      <td>1.337460</td>\n",
       "      <td>1.0</td>\n",
       "      <td>0.500</td>\n",
       "    </tr>\n",
       "  </tbody>\n",
       "</table>\n",
       "</div>"
      ],
      "text/plain": [
       "        mse  ndcg  lamda\n",
       "0  1.377390   1.0  0.001\n",
       "1  1.347982   1.0  0.010\n",
       "2  1.342829   1.0  0.100\n",
       "3  1.337460   1.0  0.500"
      ]
     },
     "execution_count": 3,
     "metadata": {},
     "output_type": "execute_result"
    }
   ],
   "source": [
    "metric_2 = pd.DataFrame(metric_2, columns=['mse','ndcg'])\n",
    "metric_2['lamda'] = list_lamda\n",
    "metric_2"
   ]
  },
  {
   "cell_type": "code",
   "execution_count": 5,
   "metadata": {},
   "outputs": [
    {
     "data": {
      "image/png": "[encoded data removed]",
      "text/plain": [
       "<Figure size 432x288 with 1 Axes>"
      ]
     },
     "metadata": {
      "needs_background": "light"
     },
     "output_type": "display_data"
    }
   ],
   "source": [
    "plt.plot('lamda', 'mse', data=metric_2, marker='', color='olive', linewidth=2, linestyle='dashed', label=\"mse\")\n",
    "plt.plot('lamda', 'ndcg', data=metric_2, marker='', color='olive', linewidth=2, label=\"ndcg\")\n",
    "plt.legend()\n",
    "plt.show()"
   ]
  },
  {
   "cell_type": "markdown",
   "metadata": {},
   "source": [
    "Based on the above graph, we can conclude that this model is good since the MSE is small and NDCG is 1 for all lambda values, but it is not good as the baseline model. Moreover, we can see that MSE decreases as the lambda increases, and NDCG remains the same for all lambda values. Recall that we want to MSE to be as small as possible and NDCG as large as possible. Thus, in this case, I will suggest that lambda 0.5 is better for this model."
   ]
  },
  {
   "cell_type": "markdown",
   "metadata": {},
   "source": [
    "Since the MSE of time-aware model is larger than baseline model, we conclude that the accuracy of time-aware model is worse than baseline model. As for the reason time-aware is worse, personally, I suggest that although some of ratings have old dates, they still have the same weight meaning of prediction because usually businesses (restaurants) will not largely changed in the short period of time. Thus, time weight is not important in this case."
   ]
  },
  {
   "cell_type": "markdown",
   "metadata": {},
   "source": [
    "## Less Popular Data"
   ]
  },
  {
   "cell_type": "code",
   "execution_count": 3,
   "metadata": {},
   "outputs": [
    {
     "name": "stderr",
     "output_type": "stream",
     "text": [
      "100%|██████████| 6685900/6685900 [00:56<00:00, 119354.44it/s]\n"
     ]
    },
    {
     "name": "stdout",
     "output_type": "stream",
     "text": [
      "50000\n",
      "19831\n"
     ]
    }
   ],
   "source": [
    "'''\n",
    "in order to test the model with unpopular data\n",
    "we choose top 50% active businesses rather than top 20%\n",
    "'''\n",
    "line_count = len(open(\"review.json\", \"rb\").readlines())\n",
    "user_ids, business_ids, stars, dates = [], [], [], []\n",
    "with open(\"review.json\",\"rb\") as f:\n",
    "    for line in tqdm(f, total=line_count):\n",
    "        blob = json.loads(line)\n",
    "        user_ids += [blob[\"user_id\"]]\n",
    "        business_ids += [blob[\"business_id\"]]\n",
    "        stars += [blob[\"stars\"]]\n",
    "        dates += [blob[\"date\"]]\n",
    "ratings = pd.DataFrame({\"user_id\": user_ids, \"business_id\": business_ids, \"rating\": stars, \"date\": dates})\n",
    "\n",
    "yelp = ratings.copy()\n",
    "\n",
    "business_count = yelp[\"business_id\"].value_counts()\n",
    "active_business = business_count.loc[business_count >= 5]\n",
    "k2 = active_business.quantile(0.5)\n",
    "active_business = active_business.loc[active_business >= k2]\n",
    "t2 = active_business.index.values\n",
    "t2 = sample(t2.tolist(), 20000)\n",
    "yelp = yelp[yelp['business_id'].isin(t2)]\n",
    "\n",
    "user_count = yelp[\"user_id\"].value_counts()\n",
    "active_user = user_count.loc[user_count >= 5]\n",
    "t1 = active_user.index.values\n",
    "\n",
    "t1 = sample(t1.tolist(), 50000)\n",
    "yelp = yelp[yelp['user_id'].isin(t1)]\n",
    "print(len(yelp[\"user_id\"].value_counts()))\n",
    "print(len(yelp[\"business_id\"].value_counts()))"
   ]
  },
  {
   "cell_type": "code",
   "execution_count": 3,
   "metadata": {},
   "outputs": [
    {
     "data": {
      "text/html": [
       "<div>\n",
       "<style scoped>\n",
       "    .dataframe tbody tr th:only-of-type {\n",
       "        vertical-align: middle;\n",
       "    }\n",
       "\n",
       "    .dataframe tbody tr th {\n",
       "        vertical-align: top;\n",
       "    }\n",
       "\n",
       "    .dataframe thead th {\n",
       "        text-align: right;\n",
       "    }\n",
       "</style>\n",
       "<table border=\"1\" class=\"dataframe\">\n",
       "  <thead>\n",
       "    <tr style=\"text-align: right;\">\n",
       "      <th></th>\n",
       "      <th>user_id</th>\n",
       "      <th>business_id</th>\n",
       "      <th>rating</th>\n",
       "      <th>date</th>\n",
       "      <th>ind</th>\n",
       "      <th>exp</th>\n",
       "      <th>time_weight</th>\n",
       "    </tr>\n",
       "  </thead>\n",
       "  <tbody>\n",
       "    <tr>\n",
       "      <th>0</th>\n",
       "      <td>sBQnwE7tTiURm6RKamqWyA</td>\n",
       "      <td>ar27DwWW4V0eKTr_4rOFGQ</td>\n",
       "      <td>2.0</td>\n",
       "      <td>2016-03</td>\n",
       "      <td>225</td>\n",
       "      <td>122.0</td>\n",
       "      <td>0.040762</td>\n",
       "    </tr>\n",
       "    <tr>\n",
       "      <th>1</th>\n",
       "      <td>MWuVbyBgP4vD24Rc7UH5xw</td>\n",
       "      <td>nEQFnHydeX2A3bRRDAKqQg</td>\n",
       "      <td>3.0</td>\n",
       "      <td>2015-02</td>\n",
       "      <td>523</td>\n",
       "      <td>109.0</td>\n",
       "      <td>0.011109</td>\n",
       "    </tr>\n",
       "    <tr>\n",
       "      <th>2</th>\n",
       "      <td>C7lXOTSLUAHG3gkG_Q_39w</td>\n",
       "      <td>Vhszq28BSjUnMkFRib3MRw</td>\n",
       "      <td>4.0</td>\n",
       "      <td>2016-03</td>\n",
       "      <td>748</td>\n",
       "      <td>122.0</td>\n",
       "      <td>0.040762</td>\n",
       "    </tr>\n",
       "    <tr>\n",
       "      <th>3</th>\n",
       "      <td>JaqcCU3nxReTW2cBLHounA</td>\n",
       "      <td>Os1n1_idfw9vv9kwULGJnQ</td>\n",
       "      <td>4.0</td>\n",
       "      <td>2017-01</td>\n",
       "      <td>781</td>\n",
       "      <td>132.0</td>\n",
       "      <td>0.110803</td>\n",
       "    </tr>\n",
       "    <tr>\n",
       "      <th>4</th>\n",
       "      <td>b34yOQoUDev_l6BzDBMpUQ</td>\n",
       "      <td>EhtKeNUGGWnjsCLIhCD1jQ</td>\n",
       "      <td>5.0</td>\n",
       "      <td>2010-10</td>\n",
       "      <td>821</td>\n",
       "      <td>57.0</td>\n",
       "      <td>0.000061</td>\n",
       "    </tr>\n",
       "  </tbody>\n",
       "</table>\n",
       "</div>"
      ],
      "text/plain": [
       "                  user_id             business_id  rating     date  ind  \\\n",
       "0  sBQnwE7tTiURm6RKamqWyA  ar27DwWW4V0eKTr_4rOFGQ     2.0  2016-03  225   \n",
       "1  MWuVbyBgP4vD24Rc7UH5xw  nEQFnHydeX2A3bRRDAKqQg     3.0  2015-02  523   \n",
       "2  C7lXOTSLUAHG3gkG_Q_39w  Vhszq28BSjUnMkFRib3MRw     4.0  2016-03  748   \n",
       "3  JaqcCU3nxReTW2cBLHounA  Os1n1_idfw9vv9kwULGJnQ     4.0  2017-01  781   \n",
       "4  b34yOQoUDev_l6BzDBMpUQ  EhtKeNUGGWnjsCLIhCD1jQ     5.0  2010-10  821   \n",
       "\n",
       "     exp  time_weight  \n",
       "0  122.0     0.040762  \n",
       "1  109.0     0.011109  \n",
       "2  122.0     0.040762  \n",
       "3  132.0     0.110803  \n",
       "4   57.0     0.000061  "
      ]
     },
     "execution_count": 3,
     "metadata": {},
     "output_type": "execute_result"
    }
   ],
   "source": [
    "sample = yelp.copy()\n",
    "sample['ind'] = sample.index\n",
    "new_df = sample.sort_values(by=['user_id','date']).groupby(\"user_id\")['date','ind'].max()\n",
    "test = pd.DataFrame(new_df)\n",
    "test = test.merge(sample, on=['user_id','date'], how='left')\n",
    "train = sample[~sample['ind'].isin(np.array(test['ind_x']))]\n",
    "\n",
    "train['date'] = train['date'].astype(str) \n",
    "train['date'] = train['date'].str.slice(0, 7, 1)\n",
    "\n",
    "m = train['date'].values\n",
    "m_sorted = sorted(m)\n",
    "time = pd.DataFrame(np.unique(m_sorted), columns = ['date'])\n",
    "time['exp'] = time.index\n",
    "time['exp'] = time['exp'].astype(np.float16)\n",
    "k = max(time['exp'])\n",
    "exp_col = np.array(time[\"exp\"])\n",
    "func = lambda x: math.exp(-0.1*(k-x))\n",
    "new_exp = list(map(func, exp_col))\n",
    "time['time_weight'] = new_exp\n",
    "train_new = train.merge(time, on='date', how='left')\n",
    "train_new.head()"
   ]
  },
  {
   "cell_type": "code",
   "execution_count": 4,
   "metadata": {},
   "outputs": [],
   "source": [
    "train_table_new = pd.pivot_table(train_new, values='rating', index=['user_id'], columns=['business_id'])\n",
    "time_table = pd.pivot_table(train_new, values='time_weight', index=['user_id'], columns=['business_id'])"
   ]
  },
  {
   "cell_type": "code",
   "execution_count": 7,
   "metadata": {},
   "outputs": [],
   "source": [
    "pre_time_unpop = predict_time(train_table_new, time_table, 5)"
   ]
  },
  {
   "cell_type": "code",
   "execution_count": 11,
   "metadata": {},
   "outputs": [],
   "source": [
    "pre_time_unpop['id'] = list(train_table_new.index)\n",
    "pre_time_unpop = pd.melt(pre_time_unpop, id_vars=['id'])\n",
    "pre_time_unpop.rename(columns = {'id':'user_id', 'variable':'business_id'}, inplace = True)\n",
    "combine = pd.merge(pre_time_unpop, test, how='inner', on=['user_id', 'business_id'])\n",
    "combine = combine.dropna(subset=['value'])\n",
    "\n",
    "pred = combine.value\n",
    "true = combine.rating\n",
    "mse = mean_squared_error(pred, true)"
   ]
  },
  {
   "cell_type": "code",
   "execution_count": 4,
   "metadata": {},
   "outputs": [
    {
     "data": {
      "text/plain": [
       "1.5307461252111367"
      ]
     },
     "execution_count": 4,
     "metadata": {},
     "output_type": "execute_result"
    }
   ],
   "source": [
    "mse"
   ]
  },
  {
   "cell_type": "markdown",
   "metadata": {},
   "source": [
    "Based on the above result, we can see that MSE is larger than original time-aware model. That is, with unpopular businesses and users, the model does not perform well as before. It is reasonable because with less popular data, we have more nan data in user-business matrix, which means we need to predict more ratings based on less original ratings. Thus, in order to have more accurate results, we should use more popular dataset."
   ]
  },
  {
   "cell_type": "markdown",
   "metadata": {},
   "source": [
    "# 3.Content-based Model\n",
    " \n",
    "The second model we used is content-based recommendation model. Unlike other filters that need other users’ preferences, recommendations that we made for specific users only depend on information of themselves. \n",
    "\n",
    "There are three general parts to implement content-based recommendations:\n",
    "1.\tPreprocess, extract features and build vector-space representation of each item.\n",
    "2.\tBuild user profiles.\n",
    "3.\tFilter and recommend by combining item content and user profiles.\n",
    "\n",
    "For our project, we can build item profile by extracting business categories and attributes and build user profile by using  users’ preferences which are ratings they made in the past. After building our model, we can recommend for each user a list of recommendations for stores/shops according to their preferences and predict ratings for businesses made by users.\n",
    "\n",
    "For  Yelp Datasets, we need to use metadata on the business(business.json) and review.json to build our model and make recommendations for each user."
   ]
  },
  {
   "cell_type": "markdown",
   "metadata": {},
   "source": [
    "## Data Preprocess:\n",
    "To build profile for items, we extracted useful columns from large Dataframe:<br>\n",
    "“business_id”—the identification number of each business;<br>\n",
    "“category”—the classification keywords for the business;<br>\n",
    "“attributes”—similar to “category”, keywords describing the business made by users. <br>"
   ]
  },
  {
   "cell_type": "code",
   "execution_count": 3,
   "metadata": {},
   "outputs": [
    {
     "name": "stderr",
     "output_type": "stream",
     "text": [
      "100%|██████████| 192609/192609 [00:02<00:00, 67043.78it/s]\n"
     ]
    }
   ],
   "source": [
    "## read in the business profile file\n",
    "\n",
    "line_count = len(open(\"business.json\").readlines())\n",
    "business_ids, categories, attr= [], [], []\n",
    "with open(\"business.json\") as f:\n",
    "    for line in tqdm(f, total=line_count):\n",
    "        blob = json.loads(line)\n",
    "        business_ids += [blob[\"business_id\"]]\n",
    "        categories += [blob[\"categories\"]]\n",
    "        attr += [blob[\"attributes\"]]\n",
    "business = pd.DataFrame(\n",
    "{\"business_id\": business_ids, \"category\": categories,\"attr\": attr}\n",
    ")"
   ]
  },
  {
   "cell_type": "code",
   "execution_count": 17,
   "metadata": {},
   "outputs": [],
   "source": [
    "### Separate them into train, validation and test data and return indexes of the data.\n",
    "def make_selection(data_sample, train_size=0.8, val_size=0.2):\n",
    "    '''\n",
    "    Divide the dataset into training and validation dataset. \n",
    "    To avoid the cold start problem, we add the constraint on the training set\n",
    "    that it should contain at least one rating from all users and all movies\n",
    "    should be rated at least once.\n",
    "\n",
    "    data_sample - the data that we will split\n",
    "    train_size - the size of the training set in percentage\n",
    "    val_size - the size of the validation set in percentage\n",
    "    '''\n",
    "    indexes_selected = []\n",
    "    pd_data_grouped = data_sample.groupby('user_id')\n",
    "    for name, group in pd_data_grouped:\n",
    "        indexes_selected.append(np.random.choice(group.index,size=1, replace=False))\n",
    "\n",
    "    pd_data_grouped_item = data_sample.groupby('business_id')\n",
    "    for name, group in pd_data_grouped_item:\n",
    "        indexes_selected.append(np.random.choice(group.index,size=1, replace=False))\n",
    "    \n",
    "    indexes_selected = np.unique(np.asarray(indexes_selected))\n",
    "\n",
    "    num_train = int(data_sample.shape[0]*train_size)\n",
    "    num_validation = int(data_sample.shape[0]*val_size)\n",
    "\n",
    "    num_selected = indexes_selected.size\n",
    "\n",
    "    data_left = data_sample.drop(indexes_selected)\n",
    "\n",
    "    training_index = np.random.choice(data_left.index, size=(num_train-num_selected), replace=False)\n",
    "    validation_index = np.random.choice(data_left.drop(training_index).index, size=num_validation, replace=False)\n",
    "    \n",
    "    training_index = np.append(training_index, indexes_selected)\n",
    "\n",
    "    return training_index, validation_index"
   ]
  },
  {
   "cell_type": "code",
   "execution_count": 18,
   "metadata": {},
   "outputs": [],
   "source": [
    "def random_sample_size(small_sample):\n",
    "    '''\n",
    "    Divide the dataset into training, validation and testing dataset\n",
    "    Return the subseted datasets.\n",
    "    \n",
    "    small_sample - the input of sample dataset\n",
    "    '''\n",
    "    training_index, validation_index = make_selection(small_sample, train_size=0.8, val_size = 0.2)\n",
    "    train_data = small_sample.loc[training_index,]\n",
    "\n",
    "    val_data = small_sample.loc[validation_index,]\n",
    "\n",
    "    #test_data = small_sample.loc[test_index, ['rating', 'movieId', 'userId']]\n",
    "    return train_data, val_data"
   ]
  },
  {
   "cell_type": "markdown",
   "metadata": {},
   "source": [
    "## Build Item Profile\n",
    "To build business profile for each business, we want to combine category and attributes tags and created a new bag-of-words column for each business. Since the original data for attributes is in the form of dictionary, we only extract tags with attributes==”True”. Then we combine category and attributes as one as the business’ profile. Every keyword in the bag-of-words is lowercase an unique. Then we reindex the column for future vectorization index matching.\n",
    "\n",
    "After having the “bag-of-word” column, we used CountVectorizer from sklearn.feature_extraction.text to transform the profile keywords for each business to count matrix. The matrix represents one-hot encoding for each keyword and each business—0 indicates non exist while 1 indicates existence. \n",
    "\n",
    "Then we can use Cosine similarity to determine how similar two business are. “Cosine similarity measures the cosine of the angle between two vectors in a multidimensional space.” In our case, the vectors are words in the bag-of-words for each business. We used cosine_similarity\n",
    " from sklearn.metrics.pairwise to get similariry matrix for each pair of business. The diagonal are all ones because each business is identical to itself and it is symmetric because the similarity for business i  and j is the same as similarity for j and i.\n",
    " \n",
    "## Build User Profile\n",
    "For user profile, due to the lack of enough information about users’ preference, we can only infer what users like by seeing their star ratings for businesses. We have the assumption that the users like certain types of business if they rated the business highly. For example, if we find that certain user rated five stars for several restaurants with keywords: “Japanese”, “sushi”, “quiet”, we then assume that he or she likes restaurants with those categories and add those tags to his/her profile. Accordingly, we decided to find businesses that the user had rated 3 stars above and add those businesses to the user’s profile to do the further recommendations.\n"
   ]
  },
  {
   "cell_type": "code",
   "execution_count": 19,
   "metadata": {},
   "outputs": [],
   "source": [
    "##convert each attribute feature to a single word as new_attr\n",
    "def get_attr(x):\n",
    "    '''\n",
    "    Convert each attribute feature to a single word as new_attr \n",
    "    Return the new dataset\n",
    "    \n",
    "    x - the input of sample dataset\n",
    "    '''\n",
    "    l=[]\n",
    "    if x !=None:\n",
    "        for k in x.keys():\n",
    "            if x[k]==\"True\":\n",
    "                l.append(k.lower())\n",
    "    return ', '.join(map(str,l))"
   ]
  },
  {
   "cell_type": "code",
   "execution_count": 32,
   "metadata": {},
   "outputs": [],
   "source": [
    "def cosine_similarity_matrix(business):\n",
    "    '''\n",
    "    Calculate the cosine similarity matrix of item(business)\n",
    "    \n",
    "    business - business profile\n",
    "    \n",
    "    '''\n",
    "    # instantiating and generating the count matrix\n",
    "    count = CountVectorizer()\n",
    "    count_matrix = count.fit_transform(business[\"bag_of_words\"])\n",
    "\n",
    "    # generating the cosine similarity matrix\n",
    "    cosine_sim = cosine_similarity(count_matrix, count_matrix)\n",
    "\n",
    "    # creating a Series for the business_id  so they are associated to an ordered numerical\n",
    "    # list I will use later to match the indexes\n",
    "    #indices = pd.DataFrame(business['business_id'])\n",
    "    indices = pd.Series(business['business_id'])\n",
    "    \n",
    "    return cosine_sim,indices"
   ]
  },
  {
   "cell_type": "markdown",
   "metadata": {},
   "source": [
    "## Filter, Recommend \n",
    "After building item and user profile, we can make recommendations based on our similarity matrix. Given a business title, we sort the similarity vector for that business in descending order and output the most similar k businesses as our recommendation output."
   ]
  },
  {
   "cell_type": "code",
   "execution_count": 175,
   "metadata": {},
   "outputs": [],
   "source": [
    "def recommendations(title,n = 5):\n",
    "    '''\n",
    "    function that takes in bisiness_id as input and returns \n",
    "    the top n = 5 recommended stores\n",
    "    The returned value is index of the recommendations and the \n",
    "    set of category it belongs to.\n",
    "    \n",
    "    title - bisiness_id need recommendations\n",
    "    n - number of recommendatios need\n",
    "    '''\n",
    "    recommended = []\n",
    "    return_index =[]\n",
    "    category = set()\n",
    "    idx = -1\n",
    "    # gettin the index of the business that matches the bisiness_id\n",
    "    if(title in list(indices)):\n",
    "        idx = indices[indices == title].index[0]\n",
    "\n",
    "    if(idx == 14967):\n",
    "        idx = 14966\n",
    "    # creating a Series with the similarity scores in descending order\n",
    "    score_series = pd.Series(cosine_sim[idx]).sort_values(ascending = False)\n",
    "\n",
    "    # getting the indexes of the 5 most similar bisiness\n",
    "    top_5_indexes = list(score_series.iloc[1:6].index)\n",
    "    \n",
    "    # populating the list with the titles of the best 5 matching bisiness_id\n",
    "    for i in top_5_indexes:\n",
    "\n",
    "        return_index.append(i)\n",
    "    \n",
    "        temp = list(business['category'])[i].split(\",\")\n",
    "        temp = list(map(lambda x:x.strip() , temp))\n",
    "        category.update(set(temp))\n",
    "        \n",
    "    return return_index,category"
   ]
  },
  {
   "cell_type": "markdown",
   "metadata": {},
   "source": [
    "## Predict Ratings\n",
    "Given a user_id and business_id, we want to predict ratings for the specific user and business. Since we already have user and item profiles, for each user, we can find the target business's neareast neighors by item profiles and by using our similarity matrix. After finding the most similar businesses of the target business, we predict its rating by the average of those in the neighboring set. "
   ]
  },
  {
   "cell_type": "code",
   "execution_count": 189,
   "metadata": {},
   "outputs": [],
   "source": [
    "def recommend(user_id,business_id):\n",
    "    '''\n",
    "    function that takes a user_id and business_id that \n",
    "    recommend businesses similar to that business for \n",
    "    certain user.\n",
    "    return a list of business_id for business that we \n",
    "    recommend.\n",
    "    \n",
    "    user_id -- the user id of s single user\n",
    "    business_id -- the id for a single business\n",
    "    '''\n",
    "  \n",
    "    recommend_cate_set = set()\n",
    "    recommend_id=set()\n",
    "    names,category = recommendations(business_id)\n",
    "    recommend_cate_set.update(category)\n",
    "    recommend_id.update(names)\n",
    "        \n",
    "    return (recommend_id)"
   ]
  },
  {
   "cell_type": "code",
   "execution_count": 190,
   "metadata": {},
   "outputs": [],
   "source": [
    "def predict(test_data):\n",
    "    '''\n",
    "    function that takes data to predict ratings of users\n",
    "    for business.\n",
    "    return predicted ratings in the dataset for users.\n",
    "    \n",
    "    test_data: the dataset that we want to fill ratings in.\n",
    "    '''\n",
    "    mean_rating=train_data.groupby(\"business_id\").mean()\n",
    "    df_business = pd.merge(business, mean_rating, on='business_id', how='left')\n",
    "    idd = [recommend(i,j) for i,j in zip(test_data.user_id, test_data.business_id)]\n",
    "    result=[df_business.loc[ idd[i] , : ].rating.mean() for i in range(len(idd))]\n",
    "    return result"
   ]
  },
  {
   "cell_type": "markdown",
   "metadata": {},
   "source": [
    "## Hyperparameter tuning\n",
    "Originally, when building the model to make recommendations, we wanted to have k –\n",
    "the number of recommendations for each user and each business as the hyperparameter. However, after trying different k’s: {5,10,15} for our recommendation model, accuracies did not change much. Also, we found that increasing k will affect the speed of our model.  Thus, we decided to fix k=5 as our optimal number of recommendations for each prediction."
   ]
  },
  {
   "cell_type": "markdown",
   "metadata": {},
   "source": [
    "## Evaluating Metrics\n",
    "We split data into training and validation set with 80% as training data and 20% as validation data. Also, we designed an algorithm to make sure that the training dataset must contain at least one rating for each business and each user for better evaluation for the model. Then we ran our recommendation program on the training set: for each user in the training set, find entries that is rated higher than 3 stars, and recommend 5 businesses for each of the entries.\n",
    "\n",
    "### 1. Mean Squared Error\n",
    "We used mean_squared_error from sklearn.metrics to calculate MSE to evaluate correctness of our predicted ratings.<br>\n",
    "MSE=$\\sum_{i}(predicted\\_rating-true\\_rating)^2/n$\n",
    "\n",
    "\n",
    "### 2. Accuracy:\n",
    "The recommender will return both the business_id and the category tag for those businesses. To calculate accuracies for our recommendations, we want to see how similar businesses that we recommend to businesses that the user have actually been to.  Thus, we compare the category tags for the businesses that we recommend with those in the test data set, and find the proportions of overlapping for the categories in what we recommend and what the user actually visited.\n",
    "Accuracy for recommendations for each user =number of overlapping category tags / total number of category tags for the real business. Then we sum accuracies for each user and get average accuracies as our evaluating metric.\n",
    "\n",
    "The average accuracy for the validation data is 0.39 and the average accuracy for test data is 0.27."
   ]
  },
  {
   "cell_type": "code",
   "execution_count": 182,
   "metadata": {},
   "outputs": [],
   "source": [
    "def accuracy(user_id):\n",
    "    '''\n",
    "    Calculate the accuracy of the recommendations we have for a single user\n",
    "    by comparing the category of our recommendations with his or her actual interested \n",
    "    category in the test data.\n",
    "    The higher the accuracy the higher the overlap of the recommendations category and the \n",
    "    actual interested category.\n",
    "    Return the accuracy number\n",
    "    \n",
    "    user_id -- the user id of s single user\n",
    "    '''\n",
    "    ttt = train_data[train_data['user_id']==user_id]\n",
    "    ttt = ttt[ttt[\"rating\"]>3]\n",
    "  \n",
    "    recommend_cate_set = set()\n",
    "    def fun1(business_id):\n",
    "        category = recommendations(business_id)[1]\n",
    "        recommend_cate_set.update(category)\n",
    "        return recommend_cate_set\n",
    "    \n",
    "    list(map(lambda x:fun1(x),list(ttt[\"business_id\"])));\n",
    "    \n",
    "    true_cate = set()\n",
    "    def fun2(i):\n",
    "        temp = list(business[business[\"business_id\"] == i]['category'])[0].split(\",\")\n",
    "        temp = list(map(lambda x:x.strip() ,temp))\n",
    "        if (len(temp) >0):\n",
    "            true_cate.update(temp)\n",
    "        return true_cate\n",
    "    \n",
    "    true_list = list(set(ttt[\"business_id\"]) & set(business[\"business_id\"]))\n",
    "    list(map(lambda x:fun2(x),true_list))\n",
    "    \n",
    "    accuracy = 0\n",
    "    if(len(true_cate) != 0):\n",
    "        accuracy = len( recommend_cate_set & true_cate)/len(true_cate)\n",
    "    return (accuracy,recommend_cate_set)"
   ]
  },
  {
   "cell_type": "markdown",
   "metadata": {},
   "source": [
    "### 3.Serendipity: \n",
    "Serendipity is “the amount of relevant information that is new to the user in a recommendation”. In our case, the amount of relevant information is our category tags for the business. We define serendipity as the proportion of new tags in the recommendation compared to total tags in the validation data."
   ]
  },
  {
   "cell_type": "code",
   "execution_count": 184,
   "metadata": {},
   "outputs": [],
   "source": [
    "def single_serendipity(title1,title2):\n",
    "    '''\n",
    "    We care about the serendipity of our recomendtiosn\n",
    "    The amount of relevant information that is new to the user in a\n",
    "    recommendation\n",
    "    Return the serendipity score\n",
    "    \n",
    "    title1- The original business_id the user have rated \n",
    "    title2 -The recommendedbusiness_id\n",
    "    '''\n",
    "    t1_word = business.loc[business['business_id'] ==title1]['bag_of_words'].map(lambda x: x.split(','))\n",
    "    t1_word = set(t1_word.tolist()[0])\n",
    "    \n",
    "    t2_word = business.loc[business['business_id']==title2][\"bag_of_words\"].map(lambda x: x.split(','))\n",
    "    t2_word= set(t2_word.tolist()[0])\n",
    "    \n",
    "    recommend_len =len(t2_word)\n",
    "    existed_len = len(t1_word.intersection(t2_word))\n",
    "    serendipity_score = (recommend_len - existed_len)/recommend_len\n",
    "    \n",
    "    \n",
    "    return serendipity_score"
   ]
  },
  {
   "cell_type": "code",
   "execution_count": 180,
   "metadata": {},
   "outputs": [],
   "source": [
    "def recommend_serendipity(title1,recommend):\n",
    "    '''\n",
    "    The overall serendipity of our recommendations\n",
    "    Return the serendipity score\n",
    "    \n",
    "    title1-The original business_id the user have rated \n",
    "    recommend - The list of recommendations we provide\n",
    "    \n",
    "    '''\n",
    "    recommend_id = business.loc[business['business_id'].isin(recommend)][\"business_id\"].tolist()\n",
    "    \n",
    "    recommend_serendipity = {}\n",
    "    for title2 in recommend_id:\n",
    "        recommend_serendipity[title2] = single_serendipity(title1,title2)\n",
    "        \n",
    "    return  recommend_serendipity  \n",
    "        \n",
    " "
   ]
  },
  {
   "cell_type": "markdown",
   "metadata": {},
   "source": [
    "## Process of Recommendation and Prediction for Yelp Dataset"
   ]
  },
  {
   "cell_type": "code",
   "execution_count": 37,
   "metadata": {},
   "outputs": [],
   "source": [
    "## yelp.csv is the small sample we subset from the review dataset, which include useres with 5 or more reviews\n",
    "sample = pd.read_csv('yelp.csv')\n",
    "\n",
    "## hold out user's final review (by date) as the test data and make the rest of them as train data\n",
    "sample.date = pd.to_datetime(sample.date)\n",
    "sample.dropna(axis=0,how='any');\n",
    "test=sample.sort_values(by=['user_id','date']).groupby(\"user_id\")['date'].max()\n",
    "test=pd.DataFrame(test)\n",
    "test= test.merge(sample,on=['user_id','date'],how='left')\n",
    "train=sample[~sample['Unnamed: 0'].isin(np.array(test['Unnamed: 0']))]"
   ]
  },
  {
   "cell_type": "code",
   "execution_count": 38,
   "metadata": {},
   "outputs": [],
   "source": [
    "##filter busuness so we only care about business rated by user in sample\n",
    "##and the business_id which have info in business profile\n",
    "t1 = sample.business_id.values \n",
    "t2 = business.business_id.values\n",
    "t3 = np.intersect1d(t1,t2)\n",
    "\n",
    "business = business[business['business_id'].isin(t3)]\n",
    "sample = sample[sample['business_id'].isin(t3)]\n",
    "##split train and validation data of the train data we have \n",
    "train_data, val_data = random_sample_size(train)\n",
    "\n",
    "##reindex business id\n",
    "reindex = pd.Series(list(range(len(business))))\n",
    "business=business.set_index([reindex])\n",
    "\n",
    "##combine new_attr and category as the item profile\n",
    "business[\"new_attr\"]=business['attr'].map(lambda x: get_attr(x))\n",
    "business[\"bag_of_words\"]=business[\"category\"]+', '+business[\"new_attr\"]\n",
    "\n",
    "##manipulate bag_of_words and category\n",
    "##remove null data and convert string to lower case\n",
    "business[\"category\"] = business[\"category\"].str.lower()\n",
    "business = business[pd.notnull(business[\"category\"])]\n",
    "business['bag_of_words'] = business['bag_of_words'].str.lower()\n",
    "business = business[pd.notnull(business['bag_of_words'])]\n"
   ]
  },
  {
   "cell_type": "code",
   "execution_count": 42,
   "metadata": {},
   "outputs": [],
   "source": [
    "## calculate the cosine matrix\n",
    "cosine_sim,indices = cosine_similarity_matrix(business)"
   ]
  },
  {
   "cell_type": "code",
   "execution_count": null,
   "metadata": {},
   "outputs": [],
   "source": [
    "## predict ratings for validation data\n",
    "validation_rating=predict(val_data)"
   ]
  },
  {
   "cell_type": "code",
   "execution_count": 177,
   "metadata": {},
   "outputs": [
    {
     "data": {
      "text/plain": [
       "1.604821136528047"
      ]
     },
     "execution_count": 177,
     "metadata": {},
     "output_type": "execute_result"
    }
   ],
   "source": [
    "## MSE for validation data\n",
    "mse_validation=mean_squared_error(validation_rating, val_data.rating)\n",
    "mse_validation"
   ]
  },
  {
   "cell_type": "code",
   "execution_count": 191,
   "metadata": {},
   "outputs": [],
   "source": [
    "## Predict ratings for test data\n",
    "test_rating=predict(test)"
   ]
  },
  {
   "cell_type": "code",
   "execution_count": 193,
   "metadata": {},
   "outputs": [
    {
     "data": {
      "text/plain": [
       "2.043665770549101"
      ]
     },
     "execution_count": 193,
     "metadata": {},
     "output_type": "execute_result"
    }
   ],
   "source": [
    "## MSE for test data\n",
    "mse_test=mean_squared_error(test_rating, test.rating)\n",
    "mse_test"
   ]
  },
  {
   "cell_type": "code",
   "execution_count": 242,
   "metadata": {},
   "outputs": [
    {
     "data": {
      "text/plain": [
       "0.3899222409484094"
      ]
     },
     "execution_count": 242,
     "metadata": {},
     "output_type": "execute_result"
    }
   ],
   "source": [
    "## The mean Accuracy of the validation result\n",
    "sum(test_result)/len(test_result)"
   ]
  },
  {
   "cell_type": "code",
   "execution_count": 239,
   "metadata": {},
   "outputs": [],
   "source": [
    "## The test result is the accuracy from the test data (last review)\n",
    "final_result = [accuracy(i) for i in test.user_id.unique()]"
   ]
  },
  {
   "cell_type": "code",
   "execution_count": 240,
   "metadata": {},
   "outputs": [
    {
     "data": {
      "text/plain": [
       "0.2696801015680017"
      ]
     },
     "execution_count": 240,
     "metadata": {},
     "output_type": "execute_result"
    }
   ],
   "source": [
    "## The  mean Accuracy of the test result\n",
    "sum(final_result)/len(final_result)"
   ]
  },
  {
   "cell_type": "markdown",
   "metadata": {},
   "source": [
    "Comparing MSE's for the same test data set, we can see that our prediction from content-based model is less accurate than that from the baseline model. Since our baseline model is user-based collaborative filtering, it recommends by finding similar users to the active user and it predicts ratings as a weighted combination of other user ratings. However, for our content-based model, our profile for certain user is user-specific, which means the process of predicting ratings has nothing to do with other users. The content-based model uses information about user's preferences and business's attributions and their similarity, but does not utilize information about relationships between users. Also, we do not have enough information from raw data to build a comprehensive user profile. Thoses are the reasons we suspect why the content-based model does not beat the baseline model."
   ]
  },
  {
   "cell_type": "markdown",
   "metadata": {},
   "source": [
    "\n",
    "\n",
    "\n",
    "\n",
    "## Limitations and Future Improvement:\n",
    "\n",
    "1. Content-based model usually give very unsurprising results since we only recommend by businesses that the user has actually been to. Thus, the results are very similar to previously visited business.\n",
    "2. We do not have much information about each user except for their ratings for businesses that they rated. Thus, we cannot build a comprehensive and reliable profile for users.\n",
    "3. If user has not rated any business or a business does not have category tags, we cannot generate recommendation for the user or the business.\n",
    "4. In the future, we will try regression models on top of item features and user profiles to predict ratings.\n",
    "5. We extract features for business to build profile, we only extract attributes in the dictionary where the attributes are True and ignore otherwise. In the future, we improve our model by adding features where attributes are False, meaning if a user prefer a business that has certain attributes as False, we can also recommend business with that attribute as False.\n",
    "6. For our evaluating metrics, we only used serendipity, MSE and self-defined accuracy. For future improvement, we can add weights for each category returned from our recommender by relevancy.\n",
    "\n",
    "\n",
    "\n",
    "Reference: https://towardsdatascience.com/how-to-build-from-scratch-a-content-based-movie-recommender-with-natural-language-processing-25ad400eb243\n",
    "\n"
   ]
  },
  {
   "cell_type": "markdown",
   "metadata": {},
   "source": [
    "# 4.Collective matrix factorization Model\n",
    " \n",
    "The third model we used is collective matrix factorization model. Especially, we use the factorizatioin machine(fm). All the input would be transformed to dummy-like(one-hot-code) data, the target variable is the rating. First, convert every line (observation) into dictionary, like {'user_id': 'zqw7-apDf7T0v0oi3LnKKQ', 'business_id': 'XD0LjNuPPwJPsTAHecUh7A'}, then we can add some side information with the weighted value. Finally, the data is saved by sparse matrix, to ease the memory pressure. \n",
    "\n",
    "We test on three inputs with different side information:\n",
    "1.\tUser id & business id.\n",
    "2.\tUser id & business id & business category.\n",
    "3.\tUser id & business id & business that user rated.\n",
    "\n",
    "Actually, the idea comes from the movie example. Here, one of the side information is from user: business that user rated. Another is from business: business category. \n",
    "\n",
    "We use pyFM to implement the model. \n",
    "\n"
   ]
  },
  {
   "cell_type": "markdown",
   "metadata": {},
   "source": [
    "The factorization machine model of order d = 2 is defined as$$\n",
    "\\hat{y}(\\mathbf{x}):=w_{0}+\\sum_{j=1}^{p} w_{j} x_{j}+\\sum_{j=1}^{p} \\sum_{j^{\\prime}=j+1}^{p} x_{j} x_{j^{\\prime}} \\sum_{f=1}^{k} v_{j, f} v_{j^{\\prime}, f},\n",
    "$$\n",
    "where k is the dimensionality of the factorization and the model parameters $\\Theta=\\left\\{w_{0}, w_{1}, \\dots, w_{p}, v_{1,1}, \\dots v_{p, k}\\right\\}$ are $$\n",
    "w_{0} \\in \\mathbb{R}, \\quad \\mathbf{w} \\in \\mathbb{R}^{p}, \\quad V \\in \\mathbb{R}^{p \\times k}\n",
    "$$."
   ]
  },
  {
   "cell_type": "code",
   "execution_count": 2,
   "metadata": {},
   "outputs": [
    {
     "name": "stderr",
     "output_type": "stream",
     "text": [
      "100%|█████████████████████████████████████████████████████████████████████| 6685900/6685900 [01:12<00:00, 92691.01it/s]\n"
     ]
    }
   ],
   "source": [
    "line_count = len(open(\"review.json\",\"rb\").readlines())\n",
    "user_ids, business_ids, stars, dates = [], [], [], []\n",
    "with open(\"review.json\",\"rb\") as f:\n",
    "    for line in tqdm(f, total=line_count):\n",
    "        blob = json.loads(line)\n",
    "        user_ids += [blob[\"user_id\"]]\n",
    "        business_ids += [blob[\"business_id\"]]\n",
    "        stars += [blob[\"stars\"]]\n",
    "        dates += [blob[\"date\"]]\n",
    "ratings = pd.DataFrame(\n",
    "{\"user_id\": user_ids, \"business_id\": business_ids, \"rating\": stars, \"date\": dates}\n",
    ")"
   ]
  },
  {
   "cell_type": "code",
   "execution_count": 3,
   "metadata": {},
   "outputs": [
    {
     "name": "stdout",
     "output_type": "stream",
     "text": [
      "620336\n",
      "8500\n"
     ]
    }
   ],
   "source": [
    "yelp = ratings.copy()\n",
    "\n",
    "business_count = yelp[\"business_id\"].value_counts()\n",
    "active_business = business_count.loc[business_count >= 5]\n",
    "\n",
    "k2 = active_business.quantile(0.8)\n",
    "active_business = active_business.loc[active_business >= k2]\n",
    "t2 = active_business.index.values\n",
    "t2 = sample(t2.tolist(), 8500)\n",
    "\n",
    "yelp = yelp[yelp['business_id'].isin(t2)]\n",
    "print(len(yelp[\"user_id\"].value_counts()))\n",
    "print(len(yelp[\"business_id\"].value_counts()))"
   ]
  },
  {
   "cell_type": "code",
   "execution_count": null,
   "metadata": {},
   "outputs": [],
   "source": [
    "\n",
    "yelp2 = ratings.copy()\n",
    "\n",
    "business_count = yelp2[\"business_id\"].value_counts()\n",
    "active_business = business_count.loc[business_count >= 5]\n",
    "\n",
    "k2 = active_business.quantile(0.5)\n",
    "active_business = active_business.loc[active_business <= k2]\n",
    "t2 = active_business.index.values\n",
    "t2 = sample(t2.tolist(), 8500)\n",
    "\n",
    "yelp = yelp[yelp['business_id'].isin(t2)]\n",
    "print(len(yelp[\"user_id\"].value_counts()))\n",
    "print(len(yelp[\"business_id\"].value_counts()))"
   ]
  },
  {
   "cell_type": "code",
   "execution_count": 4,
   "metadata": {},
   "outputs": [
    {
     "name": "stdout",
     "output_type": "stream",
     "text": [
      "1000\n",
      "4814\n"
     ]
    }
   ],
   "source": [
    "user_count = yelp[\"user_id\"].value_counts()\n",
    "active_user = user_count.loc[user_count >= 5]\n",
    "#k1 = active_user.quantile(0.3)\n",
    "#active_user = active_user.loc[active_user >= 10]\n",
    "t1 = active_user.index.values\n",
    "t1 = sample(t1.tolist(), 1000)\n",
    "\n",
    "yelp = yelp[yelp['user_id'].isin(t1)]\n",
    "print(len(yelp[\"user_id\"].value_counts()))\n",
    "print(len(yelp[\"business_id\"].value_counts()))"
   ]
  },
  {
   "cell_type": "code",
   "execution_count": 52,
   "metadata": {},
   "outputs": [
    {
     "name": "stderr",
     "output_type": "stream",
     "text": [
      "100%|███████████████████████████████████████████████████████████████████████| 192609/192609 [00:06<00:00, 31070.28it/s]\n"
     ]
    }
   ],
   "source": [
    "line_count = len(open(\"business.json\",\"rb\").readlines())\n",
    "business_ids, categories= [], []\n",
    "with open(\"business.json\",\"rb\") as f:\n",
    "    for line in tqdm(f, total=line_count):\n",
    "        blob = json.loads(line)\n",
    "        business_ids += [blob[\"business_id\"]]\n",
    "        categories += [blob[\"categories\"]]\n",
    "business = pd.DataFrame(\n",
    "{\"business_id\": business_ids, \"category\":categories}\n",
    ")\n",
    "\n",
    "business['category'] = business['category'].str.lower().apply(lambda x:(x.split(\", \")) if x!=None else x)\n"
   ]
  },
  {
   "cell_type": "code",
   "execution_count": 7,
   "metadata": {},
   "outputs": [],
   "source": [
    "# split the data: last review as test set, the rest is training set\n",
    "sample1 = yelp.copy()\n",
    "sample1['ind'] = sample1.index\n",
    "sample1.date = pd.to_datetime(sample1.date)\n",
    "\n",
    "test=sample1.sort_values(by=['user_id','date']).groupby(\"user_id\")['date','ind'].max()\n",
    "\n",
    "new_df=pd.DataFrame(test)\n",
    "new_df = new_df.merge(sample1,on=['user_id','date'],how='left')\n",
    "\n",
    "train=sample1[~sample1['ind'].isin(np.array(new_df['ind_x']))]\n",
    "# train, new_df are training set and test set"
   ]
  },
  {
   "cell_type": "code",
   "execution_count": 41,
   "metadata": {},
   "outputs": [
    {
     "data": {
      "text/plain": [
       "<pandas.core.groupby.groupby.DataFrameGroupBy object at 0x000002323CBF39B0>"
      ]
     },
     "execution_count": 41,
     "metadata": {},
     "output_type": "execute_result"
    }
   ],
   "source": [
    "# we try to avoid confusing the onehotcode of business_id with business rated by users, so:\n",
    "# add 'business' to the name of business \n",
    "\n",
    "newf = train.copy()\n",
    "newf['business_id'] = 'business'+newf['business_id']\n",
    "#dict(list(newf.groupby('user_id')))\n",
    "tempdata = newf[['user_id','business_id']]\n",
    "newflist = list(map(lambda x:[x[0],list(map(lambda x:x[1],x[1].values.tolist()))],list(tempdata.groupby('user_id'))))\n",
    "\n",
    "newf[['user_id','business_id']].groupby('user_id')"
   ]
  },
  {
   "cell_type": "code",
   "execution_count": null,
   "metadata": {},
   "outputs": [],
   "source": [
    "# build the business dictionary: containing the categories of each business"
   ]
  },
  {
   "cell_type": "code",
   "execution_count": 9,
   "metadata": {},
   "outputs": [
    {
     "data": {
      "text/plain": [
       "1000"
      ]
     },
     "execution_count": 9,
     "metadata": {},
     "output_type": "execute_result"
    }
   ],
   "source": [
    "userdict = dict(newflist)\n",
    "len(userdict)"
   ]
  },
  {
   "cell_type": "code",
   "execution_count": 34,
   "metadata": {},
   "outputs": [
    {
     "data": {
      "text/plain": [
       "['business_lpqjZAseSvoDxPN-_JnzQ',\n",
       " 'businessEyPDvFnc8Jh1kAZZMHoApQ',\n",
       " 'business9k-q8w2MsVuc1KcpwKZ2Hw',\n",
       " 'businessiXbjlUTqxlurMNAy58lYnQ',\n",
       " 'businessxkiYAerQQXL25legNhVsSw',\n",
       " 'businessiyFS4twFjCKfaKl7kUl3sg',\n",
       " 'business1czIVv2iyOHc3WMgtUWXCQ',\n",
       " 'businessZICX0zom1rky89kdOQ-U_g',\n",
       " 'businessGrJ74hxJsXXwcqS7zcfFhw',\n",
       " 'businessDb3CfZWrtG33UZSs8Tdlsg',\n",
       " 'businessZICX0zom1rky89kdOQ-U_g',\n",
       " 'businessbiCO6zc-opMp-uJ6rkTENA',\n",
       " 'businessfqMAnoS2sTokz6lqBSmoCw',\n",
       " 'businessbiCO6zc-opMp-uJ6rkTENA',\n",
       " 'businesszHrvBbRMSV9SFqZC6qa20Q',\n",
       " 'businessiRhB506lbc0kU5289zyHzg',\n",
       " 'businessbiCO6zc-opMp-uJ6rkTENA',\n",
       " 'business9_onoqwv9ZdItxc8OlUKAg',\n",
       " 'businessvMyeUHW3QxbXD4_KxmwduA',\n",
       " 'businessAva9H-t4scVmP7u_onh7pg',\n",
       " 'businessc24ZZshnU3sKqHQF8K_7Yg',\n",
       " 'businessbfVpHvjir2G2Z9wVeddw4w']"
      ]
     },
     "execution_count": 34,
     "metadata": {},
     "output_type": "execute_result"
    }
   ],
   "source": [
    "#sample\n",
    "userdict['-0b84SUGVN0YkG5j2MCmBw']"
   ]
  },
  {
   "cell_type": "markdown",
   "metadata": {},
   "source": [
    "## Data transformation\n",
    " \n",
    "With different input dtype, we transform the data to the corresponding input form.\n",
    "\n",
    "dtype\n",
    "\n",
    "0: User id & business id\n",
    "\n",
    "1: User id & business id & business category (weighted)\n",
    "\n",
    "2: User id & business id & business category\n",
    "\n",
    "3: User id & business id & business that user rated (weighted)\n",
    "\n",
    "4: User id & business id & business that user rated "
   ]
  },
  {
   "cell_type": "code",
   "execution_count": 10,
   "metadata": {},
   "outputs": [],
   "source": [
    "# combine user id, business id and features\n",
    "def transdata(data):\n",
    "    yelp = data.copy()\n",
    "    yelp1 = yelp.join(business.set_index('business_id'), on='business_id').drop('rating', axis = 1).copy()\n",
    "    yelp1['user_id'] = yelp1['user_id'].apply(lambda x:[x])\n",
    "    yelp1['business_id'] = yelp1['business_id'].apply(lambda x:[x])\n",
    "    yelp1['category'] = yelp1['business_id']+yelp1['category']\n",
    "    yelp1['category'] = yelp1['user_id']+yelp1['category']\n",
    "\n",
    "    if np.nan in list(yelp1['category']):\n",
    "        data.dropna(axis=0,how='any')\n",
    "        return transdata(data)\n",
    "\n",
    "        \n",
    "    else:\n",
    "        return (list(yelp1['category']), list(yelp['rating']))   \n",
    "    "
   ]
  },
  {
   "cell_type": "code",
   "execution_count": 28,
   "metadata": {},
   "outputs": [
    {
     "name": "stdout",
     "output_type": "stream",
     "text": [
      "                    user_id                date    ind_x  \\\n",
      "999  zz7lojg6QdZbKFCJiHsj7w 2017-04-30 21:52:07  4719601   \n",
      "\n",
      "                business_id  rating    ind_y  \n",
      "999  blSo58x1yUZdT30VwnpOmw     3.0  4719601  \n",
      "\n",
      "        after transdata function:\n",
      "\n",
      "([['zz7lojg6QdZbKFCJiHsj7w', 'blSo58x1yUZdT30VwnpOmw', 'vegan', 'pizza', 'fast food', 'restaurants']], [3.0])\n"
     ]
    }
   ],
   "source": [
    "#sample\n",
    "print(new_df.iloc[-1:])\n",
    "print('\\n        after transdata function:\\n')\n",
    "print(transdata(new_df.iloc[-1:]))"
   ]
  },
  {
   "cell_type": "code",
   "execution_count": 11,
   "metadata": {},
   "outputs": [],
   "source": [
    "# with different input dtype, we transform the data to the corresponding input form\n",
    "\n",
    "# weight is set to be 1\n",
    "def func1(list,dtype,weight=1):\n",
    "\n",
    "\n",
    "    tempd = {\"user_id\":list[0],\"business_id\":list[1]}\n",
    "    if list[2:] != []:\n",
    "        dict2 = dict(zip(list[2:],[weight/len(list[2:])]*len(list[2:])))\n",
    "        dict3 = dict(zip(list[2:],[1]*len(list[2:])))\n",
    "        \n",
    "    #the dictionary saves the rated business of users\n",
    "    user_rated = userdict[list[0]]\n",
    "    if len(user_rated)>0:           \n",
    "\n",
    "        dict4 = dict(zip(user_rated,[weight/len(user_rated)]*len(user_rated)))\n",
    "        dict5 = dict(zip(user_rated,[1]*len(user_rated)))\n",
    "\n",
    "\n",
    "    if dtype == 0:\n",
    "        return tempd\n",
    "    if dtype == 1:\n",
    "        return {**tempd, **dict2}\n",
    "    if dtype == 2:\n",
    "        return {**tempd, **dict3}\n",
    "    if dtype == 3:\n",
    "        return {**tempd, **dict4}\n",
    "    if dtype == 4:\n",
    "        return {**tempd, **dict5}\n"
   ]
  },
  {
   "cell_type": "code",
   "execution_count": 45,
   "metadata": {},
   "outputs": [
    {
     "name": "stdout",
     "output_type": "stream",
     "text": [
      "[['zz7lojg6QdZbKFCJiHsj7w', 'blSo58x1yUZdT30VwnpOmw', 'vegan', 'pizza', 'fast food', 'restaurants']]\n",
      "\n",
      "        after func1 function:\n",
      "\n",
      "[{'user_id': 'zz7lojg6QdZbKFCJiHsj7w', 'business_id': 'blSo58x1yUZdT30VwnpOmw', 'business2JqR8KKTul5NevLrZKfT_g': 0.25, 'businessG3pcVtRukZM2oKiLeNiUUA': 0.25, 'businessI0f12eU-xFn6Kd_4H57jrQ': 0.25, 'businessii8sAGBexBOJoYRFafF9XQ': 0.25}]\n"
     ]
    }
   ],
   "source": [
    "# sample\n",
    "print(transdata(new_df.iloc[-1:])[0])\n",
    "print('\\n        after func1 function:\\n')\n",
    "print([func1(x, 3) for x in transdata(new_df.iloc[-1:])[0]])\n",
    "\n",
    "#business rated by users is from the dictionary of business.json"
   ]
  },
  {
   "cell_type": "code",
   "execution_count": 12,
   "metadata": {},
   "outputs": [],
   "source": [
    "# tune the dimensionality of the factorized 2-way interactions\n",
    "# klist is the list of dimensionality of the factorized 2-way interactions\n",
    "# in code, it is num_factors\n",
    "def tune(dtype,klist,train,test,num_iter=10,weight=1):\n",
    "    print('train size = ', len(train))\n",
    "    result = []\n",
    "    time2 = time.time()\n",
    "    \n",
    "    if dtype == 0:\n",
    "        mark = 'origin MF'\n",
    "    if dtype == 1:\n",
    "        mark = 'weighted tag'\n",
    "    if dtype == 2:\n",
    "        mark = 'tag'\n",
    "    if dtype == 3:\n",
    "        mark = 'weighted rated'\n",
    "    if dtype == 4:\n",
    "        mark = 'rated'\n",
    "\n",
    "\n",
    "    X_train = list([func1(x, dtype) for x in transdata(train)[0]])\n",
    " \n",
    "    y_train = transdata(train)[1]\n",
    "\n",
    "    X_test = list([func1(x, dtype) for x in transdata(test)[0]])\n",
    "    \n",
    "    y_test = transdata(test)[1]\n",
    "    \n",
    "    v = DictVectorizer()\n",
    "    X_train = v.fit_transform(X_train)\n",
    "    X_test = v.transform(X_test)\n",
    "    \n",
    "    print('data transfromed, time cost ', time.time()-time2)\n",
    "\n",
    "    \n",
    "    \n",
    "    for k in klist:\n",
    "\n",
    "        time1 = time.time()\n",
    "        # build and train a Factorization Machine\n",
    "        # cross validatioin is included in the model\n",
    "        fm = pylibfm.FM(validation_size = 0.1,num_factors = k, num_iter = num_iter, verbose=False,shuffle_training = False, task=\"regression\", initial_learning_rate = 0.05, learning_rate_schedule=\"optimal\")       \n",
    "        \n",
    "        fm.fit(X_train,y_train)\n",
    "   \n",
    "        preds = fm.predict(X_test)\n",
    "        \n",
    "        #print(X_test)\n",
    "        \n",
    "        mse = mean_squared_error(y_test,preds)\n",
    "\n",
    "        print(mark,'num_factors=',k,\" FM MSE: %.4f\" % mse, 'time=', time.time()-time1)\n",
    "        result.append([fm,k,mse,time.time()-time1])\n",
    "        \n",
    "    return result\n",
    "        #winsound.Beep(1000,1000)  "
   ]
  },
  {
   "cell_type": "code",
   "execution_count": 13,
   "metadata": {},
   "outputs": [],
   "source": [
    "klist = [2,10,50,100,150,200]\n",
    "N = 10"
   ]
  },
  {
   "cell_type": "markdown",
   "metadata": {},
   "source": [
    "## test on a small dataset (user count = 1000)"
   ]
  },
  {
   "cell_type": "code",
   "execution_count": 14,
   "metadata": {},
   "outputs": [
    {
     "name": "stdout",
     "output_type": "stream",
     "text": [
      "train size =  10230\n",
      "data transfromed, time cost  0.8280482292175293\n",
      "origin MF num_factors= 2  FM MSE: 1.1284 time= 1.3226089477539062\n",
      "origin MF num_factors= 10  FM MSE: 1.0043 time= 2.2968649864196777\n",
      "origin MF num_factors= 50  FM MSE: 0.7154 time= 6.9766645431518555\n",
      "origin MF num_factors= 100  FM MSE: 0.4899 time= 14.174638271331787\n",
      "origin MF num_factors= 150  FM MSE: 0.5082 time= 18.45502734184265\n",
      "origin MF num_factors= 200  FM MSE: 0.4626 time= 23.51067352294922\n"
     ]
    }
   ],
   "source": [
    "# User id & business id\n",
    "result0 = tune(0,klist,train,new_df,num_iter=N)"
   ]
  },
  {
   "cell_type": "code",
   "execution_count": 15,
   "metadata": {},
   "outputs": [
    {
     "name": "stdout",
     "output_type": "stream",
     "text": [
      "train size =  10230\n",
      "data transfromed, time cost  0.95904541015625\n",
      "weighted tag num_factors= 2  FM MSE: 1.0206 time= 1.8143181800842285\n",
      "weighted tag num_factors= 10  FM MSE: 1.0355 time= 4.490018129348755\n",
      "weighted tag num_factors= 50  FM MSE: 0.6007 time= 18.489054441452026\n",
      "weighted tag num_factors= 100  FM MSE: 0.5418 time= 37.50075554847717\n",
      "weighted tag num_factors= 150  FM MSE: 0.6517 time= 54.58302068710327\n",
      "weighted tag num_factors= 200  FM MSE: 0.4840 time= 67.53355193138123\n"
     ]
    }
   ],
   "source": [
    "# User id & business id & business category (weighted)\n",
    "result1 = tune(1,klist,train,new_df,num_iter=N)"
   ]
  },
  {
   "cell_type": "code",
   "execution_count": 16,
   "metadata": {},
   "outputs": [
    {
     "name": "stdout",
     "output_type": "stream",
     "text": [
      "train size =  10230\n",
      "data transfromed, time cost  1.0359272956848145\n",
      "weighted rated num_factors= 2  FM MSE: 1.1307 time= 2.8808412551879883\n",
      "weighted rated num_factors= 10  FM MSE: 0.9918 time= 10.527526617050171\n",
      "weighted rated num_factors= 50  FM MSE: 0.6122 time= 49.0167453289032\n",
      "weighted rated num_factors= 100  FM MSE: 0.4601 time= 103.24999523162842\n",
      "weighted rated num_factors= 150  FM MSE: 0.4777 time= 163.2644546031952\n",
      "weighted rated num_factors= 200  FM MSE: 0.5083 time= 218.93855571746826\n"
     ]
    }
   ],
   "source": [
    "# User id & business id & business that user rated (weighted)\n",
    "result3 = tune(3,klist,train,new_df,num_iter=N)"
   ]
  },
  {
   "cell_type": "code",
   "execution_count": 66,
   "metadata": {},
   "outputs": [],
   "source": [
    "#predict the rating of user and business\n",
    "def fmpredict(user, business, model, dtype):\n",
    "    find_user = new_df[new_df['user_id'] == user]\n",
    "    find_business = find_user[find_user['business_id'] == business]\n",
    "    dinput = [func1(x, 0) for x in transdata(find_business)[0]]\n",
    "    v = DictVectorizer()\n",
    "    xtest = v.fit_transform(dinput)\n",
    "    print(user,'rating prediction for',business,'is',model.predict(xtest))\n",
    "    return model.predict(xtest)"
   ]
  },
  {
   "cell_type": "code",
   "execution_count": 67,
   "metadata": {},
   "outputs": [
    {
     "name": "stdout",
     "output_type": "stream",
     "text": [
      "zz7lojg6QdZbKFCJiHsj7w rating prediction for 0_aeYE2-VbsZts_UpILgDw is [3.55121083]\n"
     ]
    },
    {
     "data": {
      "text/plain": [
       "array([3.55121083])"
      ]
     },
     "execution_count": 67,
     "metadata": {},
     "output_type": "execute_result"
    }
   ],
   "source": [
    "fmpredict('zz7lojg6QdZbKFCJiHsj7w', '0_aeYE2-VbsZts_UpILgDw', result0[0][0], 0)\n",
    "# user = 'zz7lojg6QdZbKFCJiHsj7w'\n",
    "# business = '0_aeYE2-VbsZts_UpILgDw'\n",
    "# model = result0[0][0] # the first model\n",
    "# dtype = 0"
   ]
  },
  {
   "cell_type": "code",
   "execution_count": 62,
   "metadata": {},
   "outputs": [],
   "source": [
    "# build the metrix to store the result\n",
    "metric_0 = pd.DataFrame({'mse':[x[2] for x in result0],'num_factors':[x[1] for x in result0]})\n",
    "metric_1 = pd.DataFrame({'mse':[x[2] for x in result1],'num_factors':[x[1] for x in result1]})\n",
    "metric_3 = pd.DataFrame({'mse':[x[2] for x in result3],'num_factors':[x[1] for x in result3]})\n",
    "#metric_0"
   ]
  },
  {
   "cell_type": "code",
   "execution_count": 65,
   "metadata": {},
   "outputs": [
    {
     "data": {
      "image/png": "[encoded data removed]",
      "text/plain": [
       "<Figure size 432x288 with 1 Axes>"
      ]
     },
     "metadata": {
      "needs_background": "light"
     },
     "output_type": "display_data"
    }
   ],
   "source": [
    "plt.plot('num_factors', 'mse', data=metric_0, marker='', color='olive', linewidth=2, label=\"origin\")\n",
    "plt.plot('num_factors', 'mse', data=metric_1, marker='', color='red', linewidth=2, label=\"weighted tag\")\n",
    "plt.plot('num_factors', 'mse', data=metric_3, marker='', color='blue', linewidth=2, label=\"weighted rated busi\")\n",
    "plt.legend()\n",
    "plt.show()"
   ]
  },
  {
   "cell_type": "markdown",
   "metadata": {},
   "source": [
    "## Model Exploration\n",
    "Actually, the original one is the *basic Matric Factorization.* $$\n",
    "(u, i) \\rightarrow \\mathbf{x}=(\\underbrace{0, \\ldots, 0,1,0, \\ldots, 0}_{|U|}, \\underbrace{0, \\ldots, 0,1,0, \\ldots, 0}_{|I|})\n",
    "$$\n",
    "\n",
    "With the side information, it can be interpreted as *SVD++.*\n",
    "$$\n",
    "\\left(u, i,\\left\\{l_{1}, \\ldots, l_{m}\\right\\}\\right) \\rightarrow \\mathbf{x}=\\underbrace{(0, \\ldots, 1,0, \\ldots, 0, \\ldots, 1,0, \\ldots, 0, \\ldots, 1 / m, 0, \\ldots, 1 / m, 0, \\ldots)}_{|L|}\n",
    "$$\n",
    "And the FM model can be written as $$\n",
    "\\hat{y}(\\mathbf{x})=\\hat{y}\\left(u, i,\\left\\{l_{1}, \\ldots, l_{m}\\right\\}\\right)=w_{0}+w_{u}+w_{i}+\\left\\langle\\mathbf{v}_{u}, \\mathbf{v}_{i}\\right\\rangle+\\frac{1}{m} \\sum_{j=1}^{m}\\left\\langle\\mathbf{v}_{i}, \\mathbf{v}_{l_{j}}\\right\\rangle\n",
    "$$"
   ]
  },
  {
   "cell_type": "markdown",
   "metadata": {},
   "source": [
    "## Some findings and thoughts\n",
    "As the dimensionality of the factorized 2-way interactions goes up, MSE goes down. Also, the result goes steady after 100. Comparing the three inputs, origin, weighted tag and weighted rated business don't have so much difference. Considering the running time, I would rather use the original input: only user_id & business_id.\n",
    "\n",
    "The model is not improved with side information. I have tried from both user side(business that user rated) and business side(business category). Why? \n",
    "\n",
    "But, we can see that the mode with side information really works a little better. In this case, maybe the origin data is enough for the predicting, and the side information cannot help much. The patterns of certain user can be learned by the business they rate. Also, the category can be recognized by the business itself. In some way, the side information is another repeating of the origin data. Furthermore, detailed side information may lead to some kind of overfitting, which offsets its positive effect.\n",
    "\n",
    "Or, maybe it is because the data we use is too small? Let's try it in a larger data."
   ]
  },
  {
   "cell_type": "markdown",
   "metadata": {},
   "source": [
    "## Test on a larger dataset (user count = 50000)"
   ]
  },
  {
   "cell_type": "markdown",
   "metadata": {},
   "source": [
    "We use the data of 50000 users, and show the results."
   ]
  },
  {
   "cell_type": "code",
   "execution_count": 3,
   "metadata": {},
   "outputs": [
    {
     "name": "stdout",
     "output_type": "stream",
     "text": [
      "617934\n",
      "8500\n"
     ]
    }
   ],
   "source": [
    "yelp = ratings.copy()\n",
    "\n",
    "business_count = yelp[\"business_id\"].value_counts()\n",
    "active_business = business_count.loc[business_count >= 5]\n",
    "\n",
    "k2 = active_business.quantile(0.8)\n",
    "active_business = active_business.loc[active_business >= k2]\n",
    "t2 = active_business.index.values\n",
    "t2 = sample(t2.tolist(), 8500)\n",
    "\n",
    "yelp = yelp[yelp['business_id'].isin(t2)]\n",
    "print(len(yelp[\"user_id\"].value_counts()))\n",
    "print(len(yelp[\"business_id\"].value_counts()))"
   ]
  },
  {
   "cell_type": "code",
   "execution_count": 4,
   "metadata": {},
   "outputs": [
    {
     "name": "stdout",
     "output_type": "stream",
     "text": [
      "50000\n",
      "8497\n"
     ]
    }
   ],
   "source": [
    "user_count = yelp[\"user_id\"].value_counts()\n",
    "active_user = user_count.loc[user_count >= 5]\n",
    "t1 = active_user.index.values\n",
    "t1 = sample(t1.tolist(), 50000)\n",
    "\n",
    "yelp = yelp[yelp['user_id'].isin(t1)]\n",
    "print(len(yelp[\"user_id\"].value_counts()))\n",
    "print(len(yelp[\"business_id\"].value_counts()))"
   ]
  },
  {
   "cell_type": "code",
   "execution_count": 7,
   "metadata": {},
   "outputs": [],
   "source": [
    "sample1 = yelp.copy()\n",
    "sample1['ind'] = sample1.index\n",
    "sample1.date = pd.to_datetime(sample1.date)\n",
    "\n",
    "test=sample1.sort_values(by=['user_id','date']).groupby(\"user_id\")['date','ind'].max()\n",
    "\n",
    "new_df=pd.DataFrame(test)\n",
    "new_df = new_df.merge(sample1,on=['user_id','date'],how='left')\n",
    "\n",
    "train=sample1[~sample1['ind'].isin(np.array(new_df['ind_x']))]"
   ]
  },
  {
   "cell_type": "code",
   "execution_count": 8,
   "metadata": {},
   "outputs": [
    {
     "data": {
      "text/plain": [
       "<pandas.core.groupby.generic.DataFrameGroupBy object at 0x7fd23abc4650>"
      ]
     },
     "execution_count": 8,
     "metadata": {},
     "output_type": "execute_result"
    }
   ],
   "source": [
    "newf = train.copy()\n",
    "newf['business_id'] = 'business'+newf['business_id']\n",
    "#dict(list(newf.groupby('user_id')))\n",
    "tempdata = newf[['user_id','business_id']]\n",
    "newflist = list(map(lambda x:[x[0],list(map(lambda x:x[1],x[1].values.tolist()))],list(tempdata.groupby('user_id'))))\n",
    "\n",
    "newf[['user_id','business_id']].groupby('user_id')"
   ]
  },
  {
   "cell_type": "code",
   "execution_count": 9,
   "metadata": {},
   "outputs": [
    {
     "data": {
      "text/plain": [
       "50000"
      ]
     },
     "execution_count": 9,
     "metadata": {},
     "output_type": "execute_result"
    }
   ],
   "source": [
    "userdict = dict(newflist)\n",
    "len(userdict)"
   ]
  },
  {
   "cell_type": "code",
   "execution_count": 13,
   "metadata": {},
   "outputs": [],
   "source": [
    "klist = [2,10,50,100,150,200]\n",
    "N = 10"
   ]
  },
  {
   "cell_type": "code",
   "execution_count": 14,
   "metadata": {
    "scrolled": true
   },
   "outputs": [
    {
     "name": "stdout",
     "output_type": "stream",
     "text": [
      "train size =  506825\n",
      "data transfromed, time cost  19.77523398399353\n",
      "origin MF num_factors= 2  FM MSE: 1.3417 time= 54.73871088027954\n",
      "origin MF num_factors= 10  FM MSE: 1.3160 time= 81.74587392807007\n",
      "origin MF num_factors= 50  FM MSE: 1.1190 time= 229.29810786247253\n",
      "origin MF num_factors= 100  FM MSE: 1.0460 time= 407.6498398780823\n",
      "origin MF num_factors= 150  FM MSE: 1.2513 time= 581.2007300853729\n",
      "origin MF num_factors= 200  FM MSE: 1.0305 time= 802.6743910312653\n"
     ]
    }
   ],
   "source": [
    "result0 = tune(0,klist,train,new_df,num_iter=N)"
   ]
  },
  {
   "cell_type": "code",
   "execution_count": 15,
   "metadata": {
    "scrolled": false
   },
   "outputs": [
    {
     "name": "stdout",
     "output_type": "stream",
     "text": [
      "train size =  506825\n",
      "data transfromed, time cost  20.597522735595703\n",
      "weighted tag num_factors= 2  FM MSE: 1.5763 time= 72.58612489700317\n",
      "weighted tag num_factors= 10  FM MSE: 1.5067 time= 169.71379280090332\n",
      "weighted tag num_factors= 50  FM MSE: 1.1148 time= 639.9866790771484\n",
      "weighted tag num_factors= 100  FM MSE: 1.1640 time= 1222.2969689369202\n",
      "weighted tag num_factors= 150  FM MSE: 1.1756 time= 1880.8377928733826\n",
      "weighted tag num_factors= 200  FM MSE: 1.0380 time= 2544.3262617588043\n"
     ]
    }
   ],
   "source": [
    "result1 = tune(1,klist,train,new_df,num_iter=N)"
   ]
  },
  {
   "cell_type": "code",
   "execution_count": 16,
   "metadata": {
    "scrolled": false
   },
   "outputs": [
    {
     "name": "stdout",
     "output_type": "stream",
     "text": [
      "train size =  506825\n",
      "data transfromed, time cost  30.619023084640503\n",
      "weighted rated num_factors= 2  FM MSE: 1.3156 time= 140.852783203125\n",
      "weighted rated num_factors= 10  FM MSE: 1.5800 time= 503.0903322696686\n",
      "weighted rated num_factors= 50  FM MSE: 1.0860 time= 2401.7710881233215\n",
      "weighted rated num_factors= 100  FM MSE: 1.1240 time= 4654.943269968033\n",
      "weighted rated num_factors= 150  FM MSE: 1.0540 time= 7525.392911911011\n",
      "weighted rated num_factors= 200  FM MSE: 1.0896 time= 10297.6614382267\n"
     ]
    }
   ],
   "source": [
    "result3 = tune(3,klist,train,new_df,num_iter=N)"
   ]
  },
  {
   "cell_type": "code",
   "execution_count": 18,
   "metadata": {},
   "outputs": [],
   "source": [
    "# build the metrix to store the result\n",
    "metric_0 = pd.DataFrame({'mse':[x[2] for x in result0],'num_factors':[x[1] for x in result0]})\n",
    "metric_1 = pd.DataFrame({'mse':[x[2] for x in result1],'num_factors':[x[1] for x in result1]})\n",
    "metric_3 = pd.DataFrame({'mse':[x[2] for x in result3],'num_factors':[x[1] for x in result3]})"
   ]
  },
  {
   "cell_type": "code",
   "execution_count": 19,
   "metadata": {},
   "outputs": [
    {
     "data": {
      "image/png": "[encoded data removed]",
      "text/plain": [
       "<Figure size 432x288 with 1 Axes>"
      ]
     },
     "metadata": {
      "needs_background": "light"
     },
     "output_type": "display_data"
    }
   ],
   "source": [
    "plt.plot('num_factors', 'mse', data=metric_0, marker='', color='olive', linewidth=2, label=\"origin\")\n",
    "plt.plot('num_factors', 'mse', data=metric_1, marker='', color='red', linewidth=2, label=\"weighted tag\")\n",
    "plt.plot('num_factors', 'mse', data=metric_3, marker='', color='blue', linewidth=2, label=\"weighted rated busi\")\n",
    "plt.legend()\n",
    "plt.show()"
   ]
  },
  {
   "cell_type": "markdown",
   "metadata": {},
   "source": [
    "## Compare with small dataset\n",
    "\n",
    "Sadly, compared with small dataset, the MSE becomes larger. So, for this case, the model does not fit well. With more data, the model gets worse. We think the reason is that this model can not reflect the patterns of users. We should focus on the users. The large amount of data maybe dilutes the significance of user contribution to the model. "
   ]
  },
  {
   "cell_type": "markdown",
   "metadata": {},
   "source": [
    "## Why can not beat baseline?\n",
    "Our baseline is user based model, and it emphasizes the user pattern. Actually I feel a little weird to make all the users, business and features into OneHotCode. As we mentioned before, it may dilute the significance of user contribution to the model and make it redundant. "
   ]
  },
  {
   "cell_type": "markdown",
   "metadata": {},
   "source": [
    "# Summary and Conclusion\n"
   ]
  },
  {
   "cell_type": "code",
   "execution_count": 3,
   "metadata": {},
   "outputs": [
    {
     "data": {
      "text/html": [
       "<div>\n",
       "<style scoped>\n",
       "    .dataframe tbody tr th:only-of-type {\n",
       "        vertical-align: middle;\n",
       "    }\n",
       "\n",
       "    .dataframe tbody tr th {\n",
       "        vertical-align: top;\n",
       "    }\n",
       "\n",
       "    .dataframe thead th {\n",
       "        text-align: right;\n",
       "    }\n",
       "</style>\n",
       "<table border=\"1\" class=\"dataframe\">\n",
       "  <thead>\n",
       "    <tr style=\"text-align: right;\">\n",
       "      <th></th>\n",
       "      <th>model</th>\n",
       "      <th>MSE</th>\n",
       "    </tr>\n",
       "  </thead>\n",
       "  <tbody>\n",
       "    <tr>\n",
       "      <td>0</td>\n",
       "      <td>Baseline</td>\n",
       "      <td>0.497</td>\n",
       "    </tr>\n",
       "    <tr>\n",
       "      <td>1</td>\n",
       "      <td>Time_aware</td>\n",
       "      <td>1.328</td>\n",
       "    </tr>\n",
       "    <tr>\n",
       "      <td>2</td>\n",
       "      <td>Content_based</td>\n",
       "      <td>2.043</td>\n",
       "    </tr>\n",
       "    <tr>\n",
       "      <td>3</td>\n",
       "      <td>Collective factorization</td>\n",
       "      <td>1.038</td>\n",
       "    </tr>\n",
       "  </tbody>\n",
       "</table>\n",
       "</div>"
      ],
      "text/plain": [
       "                      model    MSE\n",
       "0                  Baseline  0.497\n",
       "1                Time_aware  1.328\n",
       "2             Content_based  2.043\n",
       "3  Collective factorization  1.038"
      ]
     },
     "execution_count": 3,
     "metadata": {},
     "output_type": "execute_result"
    }
   ],
   "source": [
    "#table of MSE values for all models\n",
    "MSE_df"
   ]
  },
  {
   "cell_type": "markdown",
   "metadata": {},
   "source": [
    "For this project, our objective is to predict user’s last rating based on user review history and business rating. To achieve our goal, we built Time-Aware, Content-based, Collective Factorization models along with our baseline model(user-based model) to do recommendations and predict ratings. Also, we utilized several metrics-- MSE, NDCG and Serendipity to evaluate each models and make comparisons of our result. Based all results we got above, it is clear that baseline model performs better overall comparing to other models since it has smaller MSE. Based on our objective, we think it is desirable to put base line model into our user last rating prediction since a better score recommendation can stimulate user’s interest to keep using Yelp app or attract new user to start using Yelp app. <br>\n",
    "Limitations and future improvements are embedded in the summary part for each model. Further, Our team tried to build a deep learning model as taught in class. Unfortunately, due to the time limit and large dataset, we have only built part of the model and tested on small dataset, thus unable to include the model in the project. However, we will keep working on the deep learning model and make it a comprehensive project."
   ]
  }
 ],
 "metadata": {
  "kernelspec": {
   "display_name": "Python 3",
   "language": "python",
   "name": "python3"
  },
  "language_info": {
   "codemirror_mode": {
    "name": "ipython",
    "version": 3
   },
   "file_extension": ".py",
   "mimetype": "text/x-python",
   "name": "python",
   "nbconvert_exporter": "python",
   "pygments_lexer": "ipython3",
   "version": "3.7.4"
  }
 },
 "nbformat": 4,
 "nbformat_minor": 2
}
